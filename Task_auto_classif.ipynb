{
 "cells": [
  {
   "cell_type": "code",
   "execution_count": 1,
   "id": "3e2da339",
   "metadata": {},
   "outputs": [],
   "source": [
    "# Для анализа данных\n",
    "import numpy as np\n",
    "import pandas as pd"
   ]
  },
  {
   "cell_type": "code",
   "execution_count": 3,
   "id": "1bc65dcb",
   "metadata": {},
   "outputs": [],
   "source": [
    "df = pd.read_excel('auto_complectations.xlsx', sheet_name='Sheet1')"
   ]
  },
  {
   "cell_type": "code",
   "execution_count": 4,
   "id": "38bc8240",
   "metadata": {},
   "outputs": [
    {
     "data": {
      "text/html": [
       "<div>\n",
       "<style scoped>\n",
       "    .dataframe tbody tr th:only-of-type {\n",
       "        vertical-align: middle;\n",
       "    }\n",
       "\n",
       "    .dataframe tbody tr th {\n",
       "        vertical-align: top;\n",
       "    }\n",
       "\n",
       "    .dataframe thead th {\n",
       "        text-align: right;\n",
       "    }\n",
       "</style>\n",
       "<table border=\"1\" class=\"dataframe\">\n",
       "  <thead>\n",
       "    <tr style=\"text-align: right;\">\n",
       "      <th></th>\n",
       "      <th>brand</th>\n",
       "      <th>model</th>\n",
       "      <th>complect</th>\n",
       "      <th>type_car</th>\n",
       "      <th>seats</th>\n",
       "      <th>doors</th>\n",
       "      <th>Двигатель</th>\n",
       "      <th>Мощность</th>\n",
       "      <th>Крутящий момент двигателя</th>\n",
       "      <th>Коробка передач</th>\n",
       "      <th>...</th>\n",
       "      <th>Разгон до сотни</th>\n",
       "      <th>Максимальная скорость</th>\n",
       "      <th>Расход топлива (л/100 км)\\nгород / трасса / смешанный</th>\n",
       "      <th>Дорожный просвет</th>\n",
       "      <th>Габариты (длина × ширина × высота)</th>\n",
       "      <th>Колёсная база</th>\n",
       "      <th>Объём багажника</th>\n",
       "      <th>Объём багажника максимальный</th>\n",
       "      <th>Объём топливного бака</th>\n",
       "      <th>Масса автомобиля</th>\n",
       "    </tr>\n",
       "  </thead>\n",
       "  <tbody>\n",
       "    <tr>\n",
       "      <th>0</th>\n",
       "      <td>Audi</td>\n",
       "      <td>A3 Sedan</td>\n",
       "      <td>1.4 TFSI 7AMT</td>\n",
       "      <td>Седан класса C</td>\n",
       "      <td>5</td>\n",
       "      <td>4</td>\n",
       "      <td>бензиновый (1395 см³)</td>\n",
       "      <td>150 л. с.</td>\n",
       "      <td>250 Н·м</td>\n",
       "      <td>роботизированная (7 ступеней)</td>\n",
       "      <td>...</td>\n",
       "      <td>8.2 секунды</td>\n",
       "      <td>224 км/ч</td>\n",
       "      <td>5.9 / 4.1 / 4.8</td>\n",
       "      <td>165 мм</td>\n",
       "      <td>4458 × 1796 × 1416</td>\n",
       "      <td>2637 мм</td>\n",
       "      <td>425 л</td>\n",
       "      <td>880 л</td>\n",
       "      <td>50 л</td>\n",
       "      <td>1320 кг</td>\n",
       "    </tr>\n",
       "    <tr>\n",
       "      <th>1</th>\n",
       "      <td>Audi</td>\n",
       "      <td>A3 Sedan</td>\n",
       "      <td>sport 1.4 TFSI 7AMT</td>\n",
       "      <td>Седан класса C</td>\n",
       "      <td>5</td>\n",
       "      <td>4</td>\n",
       "      <td>бензиновый (1395 см³)</td>\n",
       "      <td>150 л. с.</td>\n",
       "      <td>250 Н·м</td>\n",
       "      <td>роботизированная (7 ступеней)</td>\n",
       "      <td>...</td>\n",
       "      <td>8.2 секунды</td>\n",
       "      <td>224 км/ч</td>\n",
       "      <td>5.9 / 4.1 / 4.8</td>\n",
       "      <td>165 мм</td>\n",
       "      <td>4458 × 1796 × 1416</td>\n",
       "      <td>2637 мм</td>\n",
       "      <td>425 л</td>\n",
       "      <td>880 л</td>\n",
       "      <td>50 л</td>\n",
       "      <td>1320 кг</td>\n",
       "    </tr>\n",
       "    <tr>\n",
       "      <th>2</th>\n",
       "      <td>Audi</td>\n",
       "      <td>A3 Sedan</td>\n",
       "      <td>2.0 TFSI 7AMT</td>\n",
       "      <td>Седан класса C</td>\n",
       "      <td>5</td>\n",
       "      <td>4</td>\n",
       "      <td>бензиновый (1984 см³)</td>\n",
       "      <td>190 л. с.</td>\n",
       "      <td>320 Н·м</td>\n",
       "      <td>роботизированная (7 ступеней)</td>\n",
       "      <td>...</td>\n",
       "      <td>6.8 секунды</td>\n",
       "      <td>250 км/ч</td>\n",
       "      <td>7.2 / 4.7 / 5.6</td>\n",
       "      <td>165 мм</td>\n",
       "      <td>4458 × 1796 × 1416</td>\n",
       "      <td>2637 мм</td>\n",
       "      <td>425 л</td>\n",
       "      <td>880 л</td>\n",
       "      <td>50 л</td>\n",
       "      <td>1395 кг</td>\n",
       "    </tr>\n",
       "    <tr>\n",
       "      <th>3</th>\n",
       "      <td>Audi</td>\n",
       "      <td>A3 Sedan</td>\n",
       "      <td>2.0 TFSI 7AMT quattro</td>\n",
       "      <td>Седан класса C</td>\n",
       "      <td>5</td>\n",
       "      <td>4</td>\n",
       "      <td>бензиновый (1984 см³)</td>\n",
       "      <td>190 л. с.</td>\n",
       "      <td>320 Н·м</td>\n",
       "      <td>роботизированная (7 ступеней)</td>\n",
       "      <td>...</td>\n",
       "      <td>6.2 секунды</td>\n",
       "      <td>242 км/ч</td>\n",
       "      <td>7.2 / 4.8 / 5.7</td>\n",
       "      <td>165 мм</td>\n",
       "      <td>4458 × 1796 × 1416</td>\n",
       "      <td>2637 мм</td>\n",
       "      <td>390 л</td>\n",
       "      <td>845 л</td>\n",
       "      <td>55 л</td>\n",
       "      <td>1465 кг</td>\n",
       "    </tr>\n",
       "    <tr>\n",
       "      <th>4</th>\n",
       "      <td>Audi</td>\n",
       "      <td>A3 Sedan</td>\n",
       "      <td>sport 2.0 TFSI 7AMT</td>\n",
       "      <td>Седан класса C</td>\n",
       "      <td>5</td>\n",
       "      <td>4</td>\n",
       "      <td>бензиновый (1984 см³)</td>\n",
       "      <td>190 л. с.</td>\n",
       "      <td>320 Н·м</td>\n",
       "      <td>роботизированная (7 ступеней)</td>\n",
       "      <td>...</td>\n",
       "      <td>6.8 секунды</td>\n",
       "      <td>242 км/ч</td>\n",
       "      <td>7.2 / 4.7 / 5.6</td>\n",
       "      <td>165 мм</td>\n",
       "      <td>4458 × 1796 × 1416</td>\n",
       "      <td>2637 мм</td>\n",
       "      <td>425 л</td>\n",
       "      <td>880 л</td>\n",
       "      <td>50 л</td>\n",
       "      <td>1395 кг</td>\n",
       "    </tr>\n",
       "  </tbody>\n",
       "</table>\n",
       "<p>5 rows × 21 columns</p>\n",
       "</div>"
      ],
      "text/plain": [
       "  brand     model               complect        type_car  seats  doors  \\\n",
       "0  Audi  A3 Sedan          1.4 TFSI 7AMT  Седан класса C      5      4   \n",
       "1  Audi  A3 Sedan    sport 1.4 TFSI 7AMT  Седан класса C      5      4   \n",
       "2  Audi  A3 Sedan          2.0 TFSI 7AMT  Седан класса C      5      4   \n",
       "3  Audi  A3 Sedan  2.0 TFSI 7AMT quattro  Седан класса C      5      4   \n",
       "4  Audi  A3 Sedan    sport 2.0 TFSI 7AMT  Седан класса C      5      4   \n",
       "\n",
       "               Двигатель   Мощность Крутящий момент двигателя  \\\n",
       "0  бензиновый (1395 см³)  150 л. с.                   250 Н·м   \n",
       "1  бензиновый (1395 см³)  150 л. с.                   250 Н·м   \n",
       "2  бензиновый (1984 см³)  190 л. с.                   320 Н·м   \n",
       "3  бензиновый (1984 см³)  190 л. с.                   320 Н·м   \n",
       "4  бензиновый (1984 см³)  190 л. с.                   320 Н·м   \n",
       "\n",
       "                 Коробка передач  ... Разгон до сотни Максимальная скорость  \\\n",
       "0  роботизированная (7 ступеней)  ...     8.2 секунды              224 км/ч   \n",
       "1  роботизированная (7 ступеней)  ...     8.2 секунды              224 км/ч   \n",
       "2  роботизированная (7 ступеней)  ...     6.8 секунды              250 км/ч   \n",
       "3  роботизированная (7 ступеней)  ...     6.2 секунды              242 км/ч   \n",
       "4  роботизированная (7 ступеней)  ...     6.8 секунды              242 км/ч   \n",
       "\n",
       "  Расход топлива (л/100 км)\\nгород / трасса / смешанный Дорожный просвет  \\\n",
       "0                                    5.9 / 4.1 / 4.8              165 мм   \n",
       "1                                    5.9 / 4.1 / 4.8              165 мм   \n",
       "2                                    7.2 / 4.7 / 5.6              165 мм   \n",
       "3                                    7.2 / 4.8 / 5.7              165 мм   \n",
       "4                                    7.2 / 4.7 / 5.6              165 мм   \n",
       "\n",
       "  Габариты (длина × ширина × высота) Колёсная база Объём багажника  \\\n",
       "0                 4458 × 1796 × 1416       2637 мм           425 л   \n",
       "1                 4458 × 1796 × 1416       2637 мм           425 л   \n",
       "2                 4458 × 1796 × 1416       2637 мм           425 л   \n",
       "3                 4458 × 1796 × 1416       2637 мм           390 л   \n",
       "4                 4458 × 1796 × 1416       2637 мм           425 л   \n",
       "\n",
       "  Объём багажника максимальный Объём топливного бака Масса автомобиля  \n",
       "0                        880 л                  50 л          1320 кг  \n",
       "1                        880 л                  50 л          1320 кг  \n",
       "2                        880 л                  50 л          1395 кг  \n",
       "3                        845 л                  55 л          1465 кг  \n",
       "4                        880 л                  50 л          1395 кг  \n",
       "\n",
       "[5 rows x 21 columns]"
      ]
     },
     "execution_count": 4,
     "metadata": {},
     "output_type": "execute_result"
    }
   ],
   "source": [
    "df.head()"
   ]
  },
  {
   "cell_type": "code",
   "execution_count": 5,
   "id": "5e17a99e",
   "metadata": {},
   "outputs": [
    {
     "name": "stdout",
     "output_type": "stream",
     "text": [
      "<class 'pandas.core.frame.DataFrame'>\n",
      "RangeIndex: 1703 entries, 0 to 1702\n",
      "Data columns (total 21 columns):\n",
      " #   Column                                                Non-Null Count  Dtype \n",
      "---  ------                                                --------------  ----- \n",
      " 0   brand                                                 1703 non-null   object\n",
      " 1   model                                                 1703 non-null   object\n",
      " 2   complect                                              1703 non-null   object\n",
      " 3   type_car                                              1703 non-null   object\n",
      " 4   seats                                                 1703 non-null   int64 \n",
      " 5   doors                                                 1703 non-null   int64 \n",
      " 6   Двигатель                                             1703 non-null   object\n",
      " 7   Мощность                                              1703 non-null   object\n",
      " 8   Крутящий момент двигателя                             1703 non-null   object\n",
      " 9   Коробка передач                                       1703 non-null   object\n",
      " 10  Привод                                                1703 non-null   object\n",
      " 11  Разгон до сотни                                       1703 non-null   object\n",
      " 12  Максимальная скорость                                 1703 non-null   object\n",
      " 13  Расход топлива (л/100 км)\n",
      "город / трасса / смешанный  1703 non-null   object\n",
      " 14  Дорожный просвет                                      1703 non-null   object\n",
      " 15  Габариты (длина × ширина × высота)                    1703 non-null   object\n",
      " 16  Колёсная база                                         1703 non-null   object\n",
      " 17  Объём багажника                                       1703 non-null   object\n",
      " 18  Объём багажника максимальный                          1703 non-null   object\n",
      " 19  Объём топливного бака                                 1703 non-null   object\n",
      " 20  Масса автомобиля                                      1703 non-null   object\n",
      "dtypes: int64(2), object(19)\n",
      "memory usage: 279.5+ KB\n"
     ]
    }
   ],
   "source": [
    "df.info()"
   ]
  },
  {
   "cell_type": "markdown",
   "id": "f9d55fad",
   "metadata": {},
   "source": [
    "##### 1. Название столбцов желательно привести к  единому виду. Сейчас очень неудобно"
   ]
  },
  {
   "cell_type": "code",
   "execution_count": 11,
   "id": "cf62593c",
   "metadata": {},
   "outputs": [
    {
     "data": {
      "text/plain": [
       "Index(['brand', 'model', 'complect', 'type_car', 'seats', 'doors', 'Двигатель',\n",
       "       'Мощность', 'Крутящий момент двигателя', 'Коробка передач', 'Привод',\n",
       "       'Разгон до сотни', 'Максимальная скорость',\n",
       "       'Расход топлива (л/100 км)\\nгород / трасса / смешанный',\n",
       "       'Дорожный просвет', 'Габариты (длина × ширина × высота)',\n",
       "       'Колёсная база', 'Объём багажника', 'Объём багажника максимальный',\n",
       "       'Объём топливного бака', 'Масса автомобиля'],\n",
       "      dtype='object')"
      ]
     },
     "execution_count": 11,
     "metadata": {},
     "output_type": "execute_result"
    }
   ],
   "source": [
    "df.columns"
   ]
  },
  {
   "cell_type": "markdown",
   "id": "d7f0311f",
   "metadata": {},
   "source": [
    "##### Создадим список англоязычный названий"
   ]
  },
  {
   "cell_type": "code",
   "execution_count": 36,
   "id": "818e3e25",
   "metadata": {},
   "outputs": [
    {
     "data": {
      "text/plain": [
       "True"
      ]
     },
     "execution_count": 36,
     "metadata": {},
     "output_type": "execute_result"
    }
   ],
   "source": [
    "eng_col_name = ['engine', 'power', 'engine_torque', 'transmission', 'drive_gear',\n",
    "                '0_100time', 'max_speed', 'fuel_con_CHM', 'G_clearance', 'dimensions_LWH',\n",
    "                'wheelbase', 'trunk_vol', 'max_trunk_vol','fuel_tank', 'vehicle_weight'\n",
    "               ] # CHM в fuel_con_CHM - city / highway / mixed, LWH в dimensions_LWH - length × width × height\n",
    "# Провекра\n",
    "len(df.columns[6:]) == len(eng_col_name)"
   ]
  },
  {
   "cell_type": "code",
   "execution_count": 50,
   "id": "5b969ed1",
   "metadata": {},
   "outputs": [
    {
     "name": "stdout",
     "output_type": "stream",
     "text": [
      "<class 'pandas.core.frame.DataFrame'>\n",
      "RangeIndex: 1703 entries, 0 to 1702\n",
      "Data columns (total 21 columns):\n",
      " #   Column          Non-Null Count  Dtype \n",
      "---  ------          --------------  ----- \n",
      " 0   brand           1703 non-null   object\n",
      " 1   model           1703 non-null   object\n",
      " 2   complect        1703 non-null   object\n",
      " 3   type_car        1703 non-null   object\n",
      " 4   seats           1703 non-null   int64 \n",
      " 5   doors           1703 non-null   int64 \n",
      " 6   engine          1703 non-null   object\n",
      " 7   power           1703 non-null   object\n",
      " 8   engine_torque   1703 non-null   object\n",
      " 9   transmission    1703 non-null   object\n",
      " 10  drive_gear      1703 non-null   object\n",
      " 11  0_100time       1703 non-null   object\n",
      " 12  max_speed       1703 non-null   object\n",
      " 13  fuel_con_CHM    1703 non-null   object\n",
      " 14  G_clearance     1703 non-null   object\n",
      " 15  dimensions_LWH  1703 non-null   object\n",
      " 16  wheelbase       1703 non-null   object\n",
      " 17  trunk_vol       1703 non-null   object\n",
      " 18  max_trunk_vol   1703 non-null   object\n",
      " 19  fuel_tank       1703 non-null   object\n",
      " 20  vehicle_weight  1703 non-null   object\n",
      "dtypes: int64(2), object(19)\n",
      "memory usage: 279.5+ KB\n"
     ]
    }
   ],
   "source": [
    "list_for_trans = []\n",
    "for col_name in df.columns[6:]:\n",
    "    list_for_trans.append(col_name)\n",
    "    \n",
    "dict_col_name = dict(map(lambda *args: args, list_for_trans, eng_col_name))\n",
    "# Замена\n",
    "df = df.rename(dict_col_name, axis='columns')\n",
    "\n",
    "# Проверка\n",
    "df.info()"
   ]
  },
  {
   "cell_type": "markdown",
   "id": "c2a0b70f",
   "metadata": {},
   "source": [
    "##### 2. Информация о датасете\n",
    "\n",
    "- всего 21 колонка\n",
    "\n",
    "- 1703 строк\n",
    "\n",
    "- числовой тип в двух колонках. Остальные текстовые, их нужно будет перевести в числовые. (Хотя некоторые алгоритмы классификации могут работать и с текстовыми значениями)\n",
    "\n",
    "- Значения в колонках \"расход топлива\" и \"габариты\" нужно будет разбить на отдельные признаки или превратить в один, используя среднее или сумму и т.д."
   ]
  },
  {
   "cell_type": "markdown",
   "id": "b041e160",
   "metadata": {},
   "source": [
    "##### 2.1 Признак type_car - целевая переменная."
   ]
  },
  {
   "cell_type": "code",
   "execution_count": 55,
   "id": "38799924",
   "metadata": {},
   "outputs": [
    {
     "data": {
      "text/plain": [
       "array(['Седан класса C', 'Хэтчбек класса B', 'Седан класса D',\n",
       "       'Универсал повышенной проходимости класса D', 'Универсал класса D',\n",
       "       'Купе класса D', 'Хэтчбек класса D', 'Седан класса E',\n",
       "       'Универсал класса E', 'Хэтчбек класса E', 'Седан класса F',\n",
       "       'Большой кроссовер', 'Компактный кроссовер',\n",
       "       'Среднеразмерный кроссовер', 'Купе класса C', 'Спорткупе',\n",
       "       'Кабриолет с мягкой крышей', 'Спорткупе класса D',\n",
       "       'Спортседан класса E', 'Родстер', 'Большой внедорожник',\n",
       "       'Седан класса B', 'Хэтчбек класса A', 'Кроссовер класса B', 'Вэн',\n",
       "       'Горячий хэтчбек класса C', 'Внедорожник класса B',\n",
       "       'Среднеразмерный внедорожник', 'Хэтчбек класса C',\n",
       "       'Универсал класса C', 'Спортседан класса D', 'Купе класса E',\n",
       "       'Пикап', 'Горячий седан класса C', 'Минивэн', 'Компактвэн',\n",
       "       'Универсал повышенной проходимости класса E'], dtype=object)"
      ]
     },
     "execution_count": 55,
     "metadata": {},
     "output_type": "execute_result"
    }
   ],
   "source": [
    "# Какие значения вообще есть у этого признака\n",
    "# Так-то... в большинстве случаев зная только модель автомобиля можно предсказать его тип кузова\n",
    "df['type_car'].unique()"
   ]
  },
  {
   "cell_type": "markdown",
   "id": "b1a3a503",
   "metadata": {},
   "source": [
    "Согласно заданию, нужно создать классификатор который будет распозновать 4 класса: \n",
    "- Седан \n",
    "- Хетчбек \n",
    "- Кроссовер \n",
    "- Внедорожник.\n",
    "\n",
    "При этом в датасете присутсвуют и другие варианты типов кузова. Например, \"универсал\", \"кабриолет\", \"купе\" и т.д. Так как данных не очень много удалять эти значения не нужно.\n",
    "\n",
    "На данный момент принято сделать следующим образом:\n",
    "\n",
    "- Универсал, купе, кабриолет, родстер, минивен будут отнесены к единому, пятому классу \"Другое\"\n",
    "\n",
    "- Пикап отнесен к классу \"внедорожник\"\n",
    "\n",
    "Далее вполне можно будет отнести универсалы к хетчбекам (архитектура кузова имеет общие черты, разница в объеме багажника) \n",
    "Минивен можно отнести к классу кроссовер, а купе к седанами (однако тут нужно сразу учитыввать, что большинство купе имеют более мощный двигатель чем у обычного седана)\n",
    "\n",
    "\n",
    "______________________\n",
    "\n",
    "Сейчас оставим в колонке \"type_car\" только главный тип кузова без подтипов:\n"
   ]
  },
  {
   "cell_type": "code",
   "execution_count": 65,
   "id": "3cb66975",
   "metadata": {},
   "outputs": [],
   "source": [
    "# Напишем функцию для замены названий типов кузова\n",
    "def rename_type_car(type_car:str):\n",
    "    '''\n",
    "    Функция для замены значения в колонке \"type_car\"\n",
    "    на класс без подклассов.\n",
    "    \n",
    "    На вход принимает строку с названием класса и подкласса\n",
    "    Возвращает преобразованную строку.\n",
    "    \n",
    "    '''\n",
    "    # Приведем строку к нижнему регистру \n",
    "    type_car.lower()\n",
    "    \n",
    "    # Назачение классов, и сразу на английском\n",
    "    \n",
    "    if 'седан' in type_car:\n",
    "        return 'sedan'\n",
    "    elif 'xетчбек' in type_car:\n",
    "        return 'hatchback'\n",
    "    elif 'кроссовер' in type_car:\n",
    "        return 'crossover'\n",
    "    elif 'внедорожник' in type_car or 'пикап' in type_car:\n",
    "        return 'SUV'\n",
    "    elif 'купе' in type_car:\n",
    "        return 'coupe'\n",
    "    elif 'вэн' in type_car:\n",
    "        return 'van'\n",
    "    elif 'универсал' in type_car:\n",
    "        return 'wagon'\n",
    "    elif 'родстер' in type_car:\n",
    "        return 'roadster'\n",
    "    elif 'кабриолет' in type_car:\n",
    "        return 'cabriolet'\n",
    "    else:\n",
    "        return 'None_type'"
   ]
  },
  {
   "cell_type": "code",
   "execution_count": 9,
   "id": "7ef8dd8d",
   "metadata": {},
   "outputs": [],
   "source": [
    "# Так-то... в большинстве случаев зная только модель автомобиля можно предсказать его тип кузова, потому, что например  "
   ]
  },
  {
   "cell_type": "code",
   "execution_count": null,
   "id": "0cbc5c5f",
   "metadata": {},
   "outputs": [],
   "source": []
  },
  {
   "cell_type": "code",
   "execution_count": null,
   "id": "c1237eed",
   "metadata": {},
   "outputs": [],
   "source": []
  },
  {
   "cell_type": "code",
   "execution_count": null,
   "id": "b0529908",
   "metadata": {},
   "outputs": [],
   "source": []
  },
  {
   "cell_type": "code",
   "execution_count": null,
   "id": "6188fe8a",
   "metadata": {},
   "outputs": [],
   "source": []
  },
  {
   "cell_type": "code",
   "execution_count": null,
   "id": "dd7868f8",
   "metadata": {},
   "outputs": [],
   "source": []
  },
  {
   "cell_type": "code",
   "execution_count": null,
   "id": "077c97e4",
   "metadata": {},
   "outputs": [],
   "source": []
  }
 ],
 "metadata": {
  "kernelspec": {
   "display_name": "Python 3",
   "language": "python",
   "name": "python3"
  },
  "language_info": {
   "codemirror_mode": {
    "name": "ipython",
    "version": 3
   },
   "file_extension": ".py",
   "mimetype": "text/x-python",
   "name": "python",
   "nbconvert_exporter": "python",
   "pygments_lexer": "ipython3",
   "version": "3.8.10"
  }
 },
 "nbformat": 4,
 "nbformat_minor": 5
}
