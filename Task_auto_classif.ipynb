{
 "cells": [
  {
   "cell_type": "code",
   "execution_count": 172,
   "id": "2bdf7e53",
   "metadata": {},
   "outputs": [],
   "source": [
    "# Для анализа данных\n",
    "import numpy as np\n",
    "import pandas as pd\n",
    "\n",
    "# Для графиков\n",
    "import seaborn as sns\n",
    "import matplotlib.pyplot as plt"
   ]
  },
  {
   "cell_type": "code",
   "execution_count": 173,
   "id": "fe41406e",
   "metadata": {},
   "outputs": [],
   "source": [
    "df = pd.read_excel('auto_complectations.xlsx', sheet_name='Sheet1')"
   ]
  },
  {
   "cell_type": "code",
   "execution_count": 174,
   "id": "d012bac8",
   "metadata": {},
   "outputs": [
    {
     "data": {
      "text/html": [
       "<div>\n",
       "<style scoped>\n",
       "    .dataframe tbody tr th:only-of-type {\n",
       "        vertical-align: middle;\n",
       "    }\n",
       "\n",
       "    .dataframe tbody tr th {\n",
       "        vertical-align: top;\n",
       "    }\n",
       "\n",
       "    .dataframe thead th {\n",
       "        text-align: right;\n",
       "    }\n",
       "</style>\n",
       "<table border=\"1\" class=\"dataframe\">\n",
       "  <thead>\n",
       "    <tr style=\"text-align: right;\">\n",
       "      <th></th>\n",
       "      <th>brand</th>\n",
       "      <th>model</th>\n",
       "      <th>complect</th>\n",
       "      <th>type_car</th>\n",
       "      <th>seats</th>\n",
       "      <th>doors</th>\n",
       "      <th>Двигатель</th>\n",
       "      <th>Мощность</th>\n",
       "      <th>Крутящий момент двигателя</th>\n",
       "      <th>Коробка передач</th>\n",
       "      <th>...</th>\n",
       "      <th>Разгон до сотни</th>\n",
       "      <th>Максимальная скорость</th>\n",
       "      <th>Расход топлива (л/100 км)\\nгород / трасса / смешанный</th>\n",
       "      <th>Дорожный просвет</th>\n",
       "      <th>Габариты (длина × ширина × высота)</th>\n",
       "      <th>Колёсная база</th>\n",
       "      <th>Объём багажника</th>\n",
       "      <th>Объём багажника максимальный</th>\n",
       "      <th>Объём топливного бака</th>\n",
       "      <th>Масса автомобиля</th>\n",
       "    </tr>\n",
       "  </thead>\n",
       "  <tbody>\n",
       "    <tr>\n",
       "      <th>0</th>\n",
       "      <td>Audi</td>\n",
       "      <td>A3 Sedan</td>\n",
       "      <td>1.4 TFSI 7AMT</td>\n",
       "      <td>Седан класса C</td>\n",
       "      <td>5</td>\n",
       "      <td>4</td>\n",
       "      <td>бензиновый (1395 см³)</td>\n",
       "      <td>150 л. с.</td>\n",
       "      <td>250 Н·м</td>\n",
       "      <td>роботизированная (7 ступеней)</td>\n",
       "      <td>...</td>\n",
       "      <td>8.2 секунды</td>\n",
       "      <td>224 км/ч</td>\n",
       "      <td>5.9 / 4.1 / 4.8</td>\n",
       "      <td>165 мм</td>\n",
       "      <td>4458 × 1796 × 1416</td>\n",
       "      <td>2637 мм</td>\n",
       "      <td>425 л</td>\n",
       "      <td>880 л</td>\n",
       "      <td>50 л</td>\n",
       "      <td>1320 кг</td>\n",
       "    </tr>\n",
       "    <tr>\n",
       "      <th>1</th>\n",
       "      <td>Audi</td>\n",
       "      <td>A3 Sedan</td>\n",
       "      <td>sport 1.4 TFSI 7AMT</td>\n",
       "      <td>Седан класса C</td>\n",
       "      <td>5</td>\n",
       "      <td>4</td>\n",
       "      <td>бензиновый (1395 см³)</td>\n",
       "      <td>150 л. с.</td>\n",
       "      <td>250 Н·м</td>\n",
       "      <td>роботизированная (7 ступеней)</td>\n",
       "      <td>...</td>\n",
       "      <td>8.2 секунды</td>\n",
       "      <td>224 км/ч</td>\n",
       "      <td>5.9 / 4.1 / 4.8</td>\n",
       "      <td>165 мм</td>\n",
       "      <td>4458 × 1796 × 1416</td>\n",
       "      <td>2637 мм</td>\n",
       "      <td>425 л</td>\n",
       "      <td>880 л</td>\n",
       "      <td>50 л</td>\n",
       "      <td>1320 кг</td>\n",
       "    </tr>\n",
       "    <tr>\n",
       "      <th>2</th>\n",
       "      <td>Audi</td>\n",
       "      <td>A3 Sedan</td>\n",
       "      <td>2.0 TFSI 7AMT</td>\n",
       "      <td>Седан класса C</td>\n",
       "      <td>5</td>\n",
       "      <td>4</td>\n",
       "      <td>бензиновый (1984 см³)</td>\n",
       "      <td>190 л. с.</td>\n",
       "      <td>320 Н·м</td>\n",
       "      <td>роботизированная (7 ступеней)</td>\n",
       "      <td>...</td>\n",
       "      <td>6.8 секунды</td>\n",
       "      <td>250 км/ч</td>\n",
       "      <td>7.2 / 4.7 / 5.6</td>\n",
       "      <td>165 мм</td>\n",
       "      <td>4458 × 1796 × 1416</td>\n",
       "      <td>2637 мм</td>\n",
       "      <td>425 л</td>\n",
       "      <td>880 л</td>\n",
       "      <td>50 л</td>\n",
       "      <td>1395 кг</td>\n",
       "    </tr>\n",
       "    <tr>\n",
       "      <th>3</th>\n",
       "      <td>Audi</td>\n",
       "      <td>A3 Sedan</td>\n",
       "      <td>2.0 TFSI 7AMT quattro</td>\n",
       "      <td>Седан класса C</td>\n",
       "      <td>5</td>\n",
       "      <td>4</td>\n",
       "      <td>бензиновый (1984 см³)</td>\n",
       "      <td>190 л. с.</td>\n",
       "      <td>320 Н·м</td>\n",
       "      <td>роботизированная (7 ступеней)</td>\n",
       "      <td>...</td>\n",
       "      <td>6.2 секунды</td>\n",
       "      <td>242 км/ч</td>\n",
       "      <td>7.2 / 4.8 / 5.7</td>\n",
       "      <td>165 мм</td>\n",
       "      <td>4458 × 1796 × 1416</td>\n",
       "      <td>2637 мм</td>\n",
       "      <td>390 л</td>\n",
       "      <td>845 л</td>\n",
       "      <td>55 л</td>\n",
       "      <td>1465 кг</td>\n",
       "    </tr>\n",
       "    <tr>\n",
       "      <th>4</th>\n",
       "      <td>Audi</td>\n",
       "      <td>A3 Sedan</td>\n",
       "      <td>sport 2.0 TFSI 7AMT</td>\n",
       "      <td>Седан класса C</td>\n",
       "      <td>5</td>\n",
       "      <td>4</td>\n",
       "      <td>бензиновый (1984 см³)</td>\n",
       "      <td>190 л. с.</td>\n",
       "      <td>320 Н·м</td>\n",
       "      <td>роботизированная (7 ступеней)</td>\n",
       "      <td>...</td>\n",
       "      <td>6.8 секунды</td>\n",
       "      <td>242 км/ч</td>\n",
       "      <td>7.2 / 4.7 / 5.6</td>\n",
       "      <td>165 мм</td>\n",
       "      <td>4458 × 1796 × 1416</td>\n",
       "      <td>2637 мм</td>\n",
       "      <td>425 л</td>\n",
       "      <td>880 л</td>\n",
       "      <td>50 л</td>\n",
       "      <td>1395 кг</td>\n",
       "    </tr>\n",
       "  </tbody>\n",
       "</table>\n",
       "<p>5 rows × 21 columns</p>\n",
       "</div>"
      ],
      "text/plain": [
       "  brand     model               complect        type_car  seats  doors  \\\n",
       "0  Audi  A3 Sedan          1.4 TFSI 7AMT  Седан класса C      5      4   \n",
       "1  Audi  A3 Sedan    sport 1.4 TFSI 7AMT  Седан класса C      5      4   \n",
       "2  Audi  A3 Sedan          2.0 TFSI 7AMT  Седан класса C      5      4   \n",
       "3  Audi  A3 Sedan  2.0 TFSI 7AMT quattro  Седан класса C      5      4   \n",
       "4  Audi  A3 Sedan    sport 2.0 TFSI 7AMT  Седан класса C      5      4   \n",
       "\n",
       "               Двигатель   Мощность Крутящий момент двигателя  \\\n",
       "0  бензиновый (1395 см³)  150 л. с.                   250 Н·м   \n",
       "1  бензиновый (1395 см³)  150 л. с.                   250 Н·м   \n",
       "2  бензиновый (1984 см³)  190 л. с.                   320 Н·м   \n",
       "3  бензиновый (1984 см³)  190 л. с.                   320 Н·м   \n",
       "4  бензиновый (1984 см³)  190 л. с.                   320 Н·м   \n",
       "\n",
       "                 Коробка передач  ... Разгон до сотни Максимальная скорость  \\\n",
       "0  роботизированная (7 ступеней)  ...     8.2 секунды              224 км/ч   \n",
       "1  роботизированная (7 ступеней)  ...     8.2 секунды              224 км/ч   \n",
       "2  роботизированная (7 ступеней)  ...     6.8 секунды              250 км/ч   \n",
       "3  роботизированная (7 ступеней)  ...     6.2 секунды              242 км/ч   \n",
       "4  роботизированная (7 ступеней)  ...     6.8 секунды              242 км/ч   \n",
       "\n",
       "  Расход топлива (л/100 км)\\nгород / трасса / смешанный Дорожный просвет  \\\n",
       "0                                    5.9 / 4.1 / 4.8              165 мм   \n",
       "1                                    5.9 / 4.1 / 4.8              165 мм   \n",
       "2                                    7.2 / 4.7 / 5.6              165 мм   \n",
       "3                                    7.2 / 4.8 / 5.7              165 мм   \n",
       "4                                    7.2 / 4.7 / 5.6              165 мм   \n",
       "\n",
       "  Габариты (длина × ширина × высота) Колёсная база Объём багажника  \\\n",
       "0                 4458 × 1796 × 1416       2637 мм           425 л   \n",
       "1                 4458 × 1796 × 1416       2637 мм           425 л   \n",
       "2                 4458 × 1796 × 1416       2637 мм           425 л   \n",
       "3                 4458 × 1796 × 1416       2637 мм           390 л   \n",
       "4                 4458 × 1796 × 1416       2637 мм           425 л   \n",
       "\n",
       "  Объём багажника максимальный Объём топливного бака Масса автомобиля  \n",
       "0                        880 л                  50 л          1320 кг  \n",
       "1                        880 л                  50 л          1320 кг  \n",
       "2                        880 л                  50 л          1395 кг  \n",
       "3                        845 л                  55 л          1465 кг  \n",
       "4                        880 л                  50 л          1395 кг  \n",
       "\n",
       "[5 rows x 21 columns]"
      ]
     },
     "execution_count": 174,
     "metadata": {},
     "output_type": "execute_result"
    }
   ],
   "source": [
    "df.head()"
   ]
  },
  {
   "cell_type": "code",
   "execution_count": 175,
   "id": "21bc4f2e",
   "metadata": {},
   "outputs": [
    {
     "name": "stdout",
     "output_type": "stream",
     "text": [
      "<class 'pandas.core.frame.DataFrame'>\n",
      "RangeIndex: 1703 entries, 0 to 1702\n",
      "Data columns (total 21 columns):\n",
      " #   Column                                                Non-Null Count  Dtype \n",
      "---  ------                                                --------------  ----- \n",
      " 0   brand                                                 1703 non-null   object\n",
      " 1   model                                                 1703 non-null   object\n",
      " 2   complect                                              1703 non-null   object\n",
      " 3   type_car                                              1703 non-null   object\n",
      " 4   seats                                                 1703 non-null   int64 \n",
      " 5   doors                                                 1703 non-null   int64 \n",
      " 6   Двигатель                                             1703 non-null   object\n",
      " 7   Мощность                                              1703 non-null   object\n",
      " 8   Крутящий момент двигателя                             1703 non-null   object\n",
      " 9   Коробка передач                                       1703 non-null   object\n",
      " 10  Привод                                                1703 non-null   object\n",
      " 11  Разгон до сотни                                       1703 non-null   object\n",
      " 12  Максимальная скорость                                 1703 non-null   object\n",
      " 13  Расход топлива (л/100 км)\n",
      "город / трасса / смешанный  1703 non-null   object\n",
      " 14  Дорожный просвет                                      1703 non-null   object\n",
      " 15  Габариты (длина × ширина × высота)                    1703 non-null   object\n",
      " 16  Колёсная база                                         1703 non-null   object\n",
      " 17  Объём багажника                                       1703 non-null   object\n",
      " 18  Объём багажника максимальный                          1703 non-null   object\n",
      " 19  Объём топливного бака                                 1703 non-null   object\n",
      " 20  Масса автомобиля                                      1703 non-null   object\n",
      "dtypes: int64(2), object(19)\n",
      "memory usage: 279.5+ KB\n"
     ]
    }
   ],
   "source": [
    "df.info()"
   ]
  },
  {
   "cell_type": "markdown",
   "id": "2bb769a6",
   "metadata": {},
   "source": [
    "##### 1. Название столбцов желательно привести к  единому виду. Сейчас очень неудобно"
   ]
  },
  {
   "cell_type": "code",
   "execution_count": 176,
   "id": "ae7a4c9e",
   "metadata": {},
   "outputs": [
    {
     "data": {
      "text/plain": [
       "Index(['brand', 'model', 'complect', 'type_car', 'seats', 'doors', 'Двигатель',\n",
       "       'Мощность', 'Крутящий момент двигателя', 'Коробка передач', 'Привод',\n",
       "       'Разгон до сотни', 'Максимальная скорость',\n",
       "       'Расход топлива (л/100 км)\\nгород / трасса / смешанный',\n",
       "       'Дорожный просвет', 'Габариты (длина × ширина × высота)',\n",
       "       'Колёсная база', 'Объём багажника', 'Объём багажника максимальный',\n",
       "       'Объём топливного бака', 'Масса автомобиля'],\n",
       "      dtype='object')"
      ]
     },
     "execution_count": 176,
     "metadata": {},
     "output_type": "execute_result"
    }
   ],
   "source": [
    "df.columns"
   ]
  },
  {
   "cell_type": "markdown",
   "id": "5409897d",
   "metadata": {},
   "source": [
    "##### Создадим список англоязычный названий"
   ]
  },
  {
   "cell_type": "code",
   "execution_count": 177,
   "id": "933a5b40",
   "metadata": {},
   "outputs": [
    {
     "data": {
      "text/plain": [
       "True"
      ]
     },
     "execution_count": 177,
     "metadata": {},
     "output_type": "execute_result"
    }
   ],
   "source": [
    "eng_col_name = ['engine', 'power', 'engine_torque', 'transmission', 'drive_gear',\n",
    "                '0_100time', 'max_speed', 'fuel_con_CHM', 'G_clearance', 'dimensions_LWH',\n",
    "                'wheelbase', 'trunk_vol', 'max_trunk_vol','fuel_tank', 'vehicle_weight'\n",
    "               ] # CHM в fuel_con_CHM - city / highway / mixed, LWH в dimensions_LWH - length × width × height\n",
    "# Провекра\n",
    "len(df.columns[6:]) == len(eng_col_name)"
   ]
  },
  {
   "cell_type": "code",
   "execution_count": 178,
   "id": "32114b21",
   "metadata": {},
   "outputs": [
    {
     "name": "stdout",
     "output_type": "stream",
     "text": [
      "<class 'pandas.core.frame.DataFrame'>\n",
      "RangeIndex: 1703 entries, 0 to 1702\n",
      "Data columns (total 21 columns):\n",
      " #   Column          Non-Null Count  Dtype \n",
      "---  ------          --------------  ----- \n",
      " 0   brand           1703 non-null   object\n",
      " 1   model           1703 non-null   object\n",
      " 2   complect        1703 non-null   object\n",
      " 3   type_car        1703 non-null   object\n",
      " 4   seats           1703 non-null   int64 \n",
      " 5   doors           1703 non-null   int64 \n",
      " 6   engine          1703 non-null   object\n",
      " 7   power           1703 non-null   object\n",
      " 8   engine_torque   1703 non-null   object\n",
      " 9   transmission    1703 non-null   object\n",
      " 10  drive_gear      1703 non-null   object\n",
      " 11  0_100time       1703 non-null   object\n",
      " 12  max_speed       1703 non-null   object\n",
      " 13  fuel_con_CHM    1703 non-null   object\n",
      " 14  G_clearance     1703 non-null   object\n",
      " 15  dimensions_LWH  1703 non-null   object\n",
      " 16  wheelbase       1703 non-null   object\n",
      " 17  trunk_vol       1703 non-null   object\n",
      " 18  max_trunk_vol   1703 non-null   object\n",
      " 19  fuel_tank       1703 non-null   object\n",
      " 20  vehicle_weight  1703 non-null   object\n",
      "dtypes: int64(2), object(19)\n",
      "memory usage: 279.5+ KB\n"
     ]
    }
   ],
   "source": [
    "list_for_trans = []\n",
    "for col_name in df.columns[6:]:\n",
    "    list_for_trans.append(col_name)\n",
    "    \n",
    "dict_col_name = dict(map(lambda *args: args, list_for_trans, eng_col_name))\n",
    "# Замена\n",
    "df = df.rename(dict_col_name, axis='columns')\n",
    "\n",
    "# Проверка\n",
    "df.info()"
   ]
  },
  {
   "cell_type": "markdown",
   "id": "797313ad",
   "metadata": {},
   "source": [
    "##### 2. Информация о датасете\n",
    "\n",
    "- всего 21 колонка\n",
    "\n",
    "- 1703 строк\n",
    "\n",
    "- числовой тип в двух колонках. Остальные текстовые, их нужно будет перевести в числовые. (Хотя некоторые алгоритмы классификации могут работать и с текстовыми значениями)\n",
    "\n",
    "- Значения в колонках \"расход топлива\" и \"габариты\" нужно будет разбить на отдельные признаки или превратить в один, используя среднее или сумму и т.д."
   ]
  },
  {
   "cell_type": "markdown",
   "id": "d2c77ae3",
   "metadata": {},
   "source": [
    "##### 2.1 Признак type_car - целевая переменная."
   ]
  },
  {
   "cell_type": "code",
   "execution_count": 179,
   "id": "8f91ed23",
   "metadata": {},
   "outputs": [
    {
     "data": {
      "text/plain": [
       "array(['Седан класса C', 'Хэтчбек класса B', 'Седан класса D',\n",
       "       'Универсал повышенной проходимости класса D', 'Универсал класса D',\n",
       "       'Купе класса D', 'Хэтчбек класса D', 'Седан класса E',\n",
       "       'Универсал класса E', 'Хэтчбек класса E', 'Седан класса F',\n",
       "       'Большой кроссовер', 'Компактный кроссовер',\n",
       "       'Среднеразмерный кроссовер', 'Купе класса C', 'Спорткупе',\n",
       "       'Кабриолет с мягкой крышей', 'Спорткупе класса D',\n",
       "       'Спортседан класса E', 'Родстер', 'Большой внедорожник',\n",
       "       'Седан класса B', 'Хэтчбек класса A', 'Кроссовер класса B', 'Вэн',\n",
       "       'Горячий хэтчбек класса C', 'Внедорожник класса B',\n",
       "       'Среднеразмерный внедорожник', 'Хэтчбек класса C',\n",
       "       'Универсал класса C', 'Спортседан класса D', 'Купе класса E',\n",
       "       'Пикап', 'Горячий седан класса C', 'Минивэн', 'Компактвэн',\n",
       "       'Универсал повышенной проходимости класса E'], dtype=object)"
      ]
     },
     "execution_count": 179,
     "metadata": {},
     "output_type": "execute_result"
    }
   ],
   "source": [
    "# Какие значения вообще есть у этого признака\n",
    "# Так-то... в большинстве случаев зная только модель автомобиля можно предсказать его тип кузова\n",
    "df['type_car'].unique()"
   ]
  },
  {
   "cell_type": "markdown",
   "id": "320622c3",
   "metadata": {},
   "source": [
    "Согласно заданию, нужно создать классификатор который будет распозновать 4 класса: \n",
    "- Седан \n",
    "- Хетчбек \n",
    "- Кроссовер \n",
    "- Внедорожник.\n",
    "\n",
    "При этом в датасете присутсвуют и другие варианты типов кузова. Например, \"универсал\", \"кабриолет\", \"купе\" и т.д. Так как данных не очень много удалять эти значения не нужно.\n",
    "\n",
    "На данный момент принято сделать следующим образом:\n",
    "\n",
    "- Универсал, купе, кабриолет, родстер, минивен будут отнесены к единому, пятому классу \"Другое\"\n",
    "\n",
    "- Пикап отнесен к классу \"внедорожник\"\n",
    "\n",
    "Далее вполне можно будет отнести универсалы к хетчбекам (архитектура кузова имеет общие черты, разница в объеме багажника) \n",
    "Минивен можно отнести к классу кроссовер, а купе к седанами (однако тут нужно сразу учитыввать, что большинство купе имеют более мощный двигатель чем у обычного седана)\n",
    "\n",
    "\n",
    "______________________\n",
    "\n",
    "Сейчас оставим в колонке \"type_car\" только главный тип кузова без подтипов:\n"
   ]
  },
  {
   "cell_type": "code",
   "execution_count": 180,
   "id": "a7300a42",
   "metadata": {},
   "outputs": [],
   "source": [
    "# Напишем функцию для замены названий типов кузова\n",
    "def rename_type_car(type_car:str):\n",
    "    '''\n",
    "    Функция для замены значения в колонке \"type_car\"\n",
    "    на класс без подклассов.\n",
    "    \n",
    "    На вход принимает строку с названием класса и подкласса\n",
    "    Возвращает преобразованную строку.\n",
    "    \n",
    "    '''\n",
    "    # Приведем строку к нижнему регистру \n",
    "    type_car = type_car.lower()\n",
    "    \n",
    "    # Назачение классов, и сразу на английском\n",
    "    \n",
    "    if 'седан' in type_car:\n",
    "        return 'sedan'\n",
    "    elif 'хэтчбек' in type_car:\n",
    "        return 'hatchback'\n",
    "    elif 'кроссовер' in type_car:\n",
    "        return 'crossover'\n",
    "    elif 'внедорожник' in type_car or 'пикап' in type_car:\n",
    "        return 'SUV'\n",
    "    elif 'купе' in type_car:\n",
    "        return 'coupe'\n",
    "    elif 'вэн' in type_car:\n",
    "        return 'van'\n",
    "    elif 'универсал' in type_car:\n",
    "        return 'wagon'\n",
    "    elif 'родстер' in type_car:\n",
    "        return 'roadster'\n",
    "    elif 'кабриолет' in type_car:\n",
    "        return 'cabriolet'\n",
    "    else:\n",
    "        return 'None_type'"
   ]
  },
  {
   "cell_type": "code",
   "execution_count": 181,
   "id": "be9b190e",
   "metadata": {},
   "outputs": [],
   "source": [
    "df['main_type_car'] = df.loc[:, ('type_car')].apply(lambda x: rename_type_car(x))"
   ]
  },
  {
   "cell_type": "code",
   "execution_count": 182,
   "id": "4f44103c",
   "metadata": {},
   "outputs": [
    {
     "data": {
      "text/html": [
       "<div>\n",
       "<style scoped>\n",
       "    .dataframe tbody tr th:only-of-type {\n",
       "        vertical-align: middle;\n",
       "    }\n",
       "\n",
       "    .dataframe tbody tr th {\n",
       "        vertical-align: top;\n",
       "    }\n",
       "\n",
       "    .dataframe thead th {\n",
       "        text-align: right;\n",
       "    }\n",
       "</style>\n",
       "<table border=\"1\" class=\"dataframe\">\n",
       "  <thead>\n",
       "    <tr style=\"text-align: right;\">\n",
       "      <th></th>\n",
       "      <th>brand</th>\n",
       "      <th>model</th>\n",
       "      <th>complect</th>\n",
       "      <th>type_car</th>\n",
       "      <th>seats</th>\n",
       "      <th>doors</th>\n",
       "      <th>engine</th>\n",
       "      <th>power</th>\n",
       "      <th>engine_torque</th>\n",
       "      <th>transmission</th>\n",
       "      <th>...</th>\n",
       "      <th>max_speed</th>\n",
       "      <th>fuel_con_CHM</th>\n",
       "      <th>G_clearance</th>\n",
       "      <th>dimensions_LWH</th>\n",
       "      <th>wheelbase</th>\n",
       "      <th>trunk_vol</th>\n",
       "      <th>max_trunk_vol</th>\n",
       "      <th>fuel_tank</th>\n",
       "      <th>vehicle_weight</th>\n",
       "      <th>main_type_car</th>\n",
       "    </tr>\n",
       "  </thead>\n",
       "  <tbody>\n",
       "  </tbody>\n",
       "</table>\n",
       "<p>0 rows × 22 columns</p>\n",
       "</div>"
      ],
      "text/plain": [
       "Empty DataFrame\n",
       "Columns: [brand, model, complect, type_car, seats, doors, engine, power, engine_torque, transmission, drive_gear, 0_100time, max_speed, fuel_con_CHM, G_clearance, dimensions_LWH, wheelbase, trunk_vol, max_trunk_vol, fuel_tank, vehicle_weight, main_type_car]\n",
       "Index: []\n",
       "\n",
       "[0 rows x 22 columns]"
      ]
     },
     "execution_count": 182,
     "metadata": {},
     "output_type": "execute_result"
    }
   ],
   "source": [
    "# проверим какие значения получились none_tape\n",
    "df[df['main_type_car'] == 'None_type']"
   ]
  },
  {
   "cell_type": "markdown",
   "id": "4285aabb",
   "metadata": {},
   "source": [
    "Все классы заменились на общий. Оставим пока, что колонку с type_car для анализа."
   ]
  },
  {
   "cell_type": "code",
   "execution_count": 183,
   "id": "938cbd58",
   "metadata": {},
   "outputs": [
    {
     "data": {
      "text/plain": [
       "crossover    754\n",
       "sedan        416\n",
       "SUV          200\n",
       "hatchback    128\n",
       "van           94\n",
       "wagon         54\n",
       "coupe         43\n",
       "roadster       9\n",
       "cabriolet      5\n",
       "Name: main_type_car, dtype: int64"
      ]
     },
     "execution_count": 183,
     "metadata": {},
     "output_type": "execute_result"
    }
   ],
   "source": [
    "df['main_type_car'].value_counts()"
   ]
  },
  {
   "cell_type": "code",
   "execution_count": 184,
   "id": "6e7c0834",
   "metadata": {},
   "outputs": [
    {
     "data": {
      "image/png": "[encoded data removed]",
      "text/plain": [
       "<Figure size 576x504 with 1 Axes>"
      ]
     },
     "metadata": {
      "needs_background": "light"
     },
     "output_type": "display_data"
    }
   ],
   "source": [
    "plt.figure(figsize=(8, 7))\n",
    "plt.title('Распределение общих типов  автомобилей')\n",
    "df['main_type_car'].value_counts(ascending=True).plot(kind='barh')\n",
    "plt.xlabel('Количество общих типов')\n",
    "plt.ylabel('Тип')\n",
    "plt.grid(True)"
   ]
  },
  {
   "cell_type": "markdown",
   "id": "91d44516",
   "metadata": {},
   "source": [
    "##### 2.2 Признак brend"
   ]
  },
  {
   "cell_type": "code",
   "execution_count": 185,
   "id": "9613e381",
   "metadata": {},
   "outputs": [
    {
     "data": {
      "text/plain": [
       "array(['Audi', 'BMW', 'Cadillac', 'Chevrolet', 'Citroen', 'Genesis',\n",
       "       'Infiniti', 'Hyundai', 'Honda', 'Jaguar', 'Jeep', 'KIA',\n",
       "       'Land Rover', 'Lexus', 'Mazda', 'Mercedes-Benz', 'Mitsubishi',\n",
       "       'Nissan', 'Opel', 'Peugeot', 'Renault', 'Skoda', 'Subaru',\n",
       "       'Suzuki', 'Toyota', 'Volkswagen', 'Volvo'], dtype=object)"
      ]
     },
     "execution_count": 185,
     "metadata": {},
     "output_type": "execute_result"
    }
   ],
   "source": [
    "df['brand'].unique()"
   ]
  },
  {
   "cell_type": "code",
   "execution_count": 186,
   "id": "5de2d1a1",
   "metadata": {},
   "outputs": [
    {
     "data": {
      "text/plain": [
       "27"
      ]
     },
     "execution_count": 186,
     "metadata": {},
     "output_type": "execute_result"
    }
   ],
   "source": [
    "len(df['brand'].unique())"
   ]
  },
  {
   "cell_type": "markdown",
   "id": "aa42afb8",
   "metadata": {},
   "source": [
    "Всего представлено 27 марок автомобилей. Среди них:"
   ]
  },
  {
   "cell_type": "code",
   "execution_count": 187,
   "id": "57d26bf9",
   "metadata": {},
   "outputs": [
    {
     "data": {
      "image/png": "[encoded data removed]",
      "text/plain": [
       "<Figure size 576x504 with 1 Axes>"
      ]
     },
     "metadata": {
      "needs_background": "light"
     },
     "output_type": "display_data"
    }
   ],
   "source": [
    "plt.figure(figsize=(8, 7))\n",
    "plt.title('Распределение количества типов и комплектаций автомобилей')\n",
    "df['brand'].value_counts(ascending=True).plot(kind='barh')\n",
    "plt.xlabel('Количество типов и комплектаций')\n",
    "plt.ylabel('Марка автомобиля')\n",
    "plt.grid(True)"
   ]
  },
  {
   "cell_type": "code",
   "execution_count": 188,
   "id": "96d6fc6f",
   "metadata": {},
   "outputs": [],
   "source": [
    "# Так-то... в большинстве случаев зная только модель автомобиля можно предсказать его тип кузова, потому, что например  "
   ]
  },
  {
   "cell_type": "markdown",
   "id": "397804ee",
   "metadata": {},
   "source": [
    "##### 2.3 Признак \"model\""
   ]
  },
  {
   "cell_type": "code",
   "execution_count": 189,
   "id": "2431e614",
   "metadata": {},
   "outputs": [
    {
     "data": {
      "text/plain": [
       "246"
      ]
     },
     "execution_count": 189,
     "metadata": {},
     "output_type": "execute_result"
    }
   ],
   "source": [
    "len(df['model'].unique())"
   ]
  },
  {
   "cell_type": "markdown",
   "id": "37270ac9",
   "metadata": {},
   "source": [
    "Всего 246 моделей. Лучше оставить их в текстовом варианте как есть. Можно создать из этого фиктивные переменные, но получится очень много признаков, что усложнит модель.\n",
    "\n",
    "Более того скорее всего этот признак будет больше всего влиять на классификацию, потому, что определенная модель автомоблия чаще всего имеет единственный тип кузова."
   ]
  },
  {
   "cell_type": "code",
   "execution_count": 190,
   "id": "4caa8c7c",
   "metadata": {},
   "outputs": [
    {
     "data": {
      "text/html": [
       "<div>\n",
       "<style scoped>\n",
       "    .dataframe tbody tr th:only-of-type {\n",
       "        vertical-align: middle;\n",
       "    }\n",
       "\n",
       "    .dataframe tbody tr th {\n",
       "        vertical-align: top;\n",
       "    }\n",
       "\n",
       "    .dataframe thead th {\n",
       "        text-align: right;\n",
       "    }\n",
       "</style>\n",
       "<table border=\"1\" class=\"dataframe\">\n",
       "  <thead>\n",
       "    <tr style=\"text-align: right;\">\n",
       "      <th></th>\n",
       "      <th>brand</th>\n",
       "      <th>model</th>\n",
       "      <th>complect</th>\n",
       "      <th>type_car</th>\n",
       "      <th>seats</th>\n",
       "      <th>doors</th>\n",
       "      <th>engine</th>\n",
       "      <th>power</th>\n",
       "      <th>engine_torque</th>\n",
       "      <th>transmission</th>\n",
       "      <th>...</th>\n",
       "      <th>max_speed</th>\n",
       "      <th>fuel_con_CHM</th>\n",
       "      <th>G_clearance</th>\n",
       "      <th>dimensions_LWH</th>\n",
       "      <th>wheelbase</th>\n",
       "      <th>trunk_vol</th>\n",
       "      <th>max_trunk_vol</th>\n",
       "      <th>fuel_tank</th>\n",
       "      <th>vehicle_weight</th>\n",
       "      <th>main_type_car</th>\n",
       "    </tr>\n",
       "  </thead>\n",
       "  <tbody>\n",
       "    <tr>\n",
       "      <th>161</th>\n",
       "      <td>BMW</td>\n",
       "      <td>2 Series</td>\n",
       "      <td>218i MT</td>\n",
       "      <td>Купе класса C</td>\n",
       "      <td>5</td>\n",
       "      <td>2</td>\n",
       "      <td>бензиновый (1499 см³)</td>\n",
       "      <td>136 л. с.</td>\n",
       "      <td>220 Н·м</td>\n",
       "      <td>механическая (6 ступеней)</td>\n",
       "      <td>...</td>\n",
       "      <td>210 км/ч</td>\n",
       "      <td>6.3 / 4.4 / 5.1</td>\n",
       "      <td>145 мм</td>\n",
       "      <td>4432 × 1774 × 1418</td>\n",
       "      <td>2690 мм</td>\n",
       "      <td>390 л</td>\n",
       "      <td>390 л</td>\n",
       "      <td>52 л</td>\n",
       "      <td>1345 кг</td>\n",
       "      <td>coupe</td>\n",
       "    </tr>\n",
       "    <tr>\n",
       "      <th>162</th>\n",
       "      <td>BMW</td>\n",
       "      <td>2 Series</td>\n",
       "      <td>218i</td>\n",
       "      <td>Купе класса C</td>\n",
       "      <td>5</td>\n",
       "      <td>2</td>\n",
       "      <td>бензиновый (1499 см³)</td>\n",
       "      <td>136 л. с.</td>\n",
       "      <td>220 Н·м</td>\n",
       "      <td>автоматическая (8 ступеней)</td>\n",
       "      <td>...</td>\n",
       "      <td>210 км/ч</td>\n",
       "      <td>6.2 / 4.4 / 5.1</td>\n",
       "      <td>145 мм</td>\n",
       "      <td>4432 × 1774 × 1418</td>\n",
       "      <td>2690 мм</td>\n",
       "      <td>390 л</td>\n",
       "      <td>390 л</td>\n",
       "      <td>52 л</td>\n",
       "      <td>1475 кг</td>\n",
       "      <td>coupe</td>\n",
       "    </tr>\n",
       "    <tr>\n",
       "      <th>163</th>\n",
       "      <td>BMW</td>\n",
       "      <td>2 Series</td>\n",
       "      <td>M240i xDrive</td>\n",
       "      <td>Купе класса C</td>\n",
       "      <td>5</td>\n",
       "      <td>2</td>\n",
       "      <td>бензиновый (2998 см³)</td>\n",
       "      <td>340 л. с.</td>\n",
       "      <td>500 Н·м</td>\n",
       "      <td>автоматическая (8 ступеней)</td>\n",
       "      <td>...</td>\n",
       "      <td>250 км/ч</td>\n",
       "      <td>9.8 / 6 / 7.4</td>\n",
       "      <td>145 мм</td>\n",
       "      <td>4432 × 1774 × 1418</td>\n",
       "      <td>2690 мм</td>\n",
       "      <td>390 л</td>\n",
       "      <td>390 л</td>\n",
       "      <td>52 л</td>\n",
       "      <td>1615 кг</td>\n",
       "      <td>coupe</td>\n",
       "    </tr>\n",
       "    <tr>\n",
       "      <th>164</th>\n",
       "      <td>BMW</td>\n",
       "      <td>2 Series Gran Coupe</td>\n",
       "      <td>218i Online Edition</td>\n",
       "      <td>Седан класса C</td>\n",
       "      <td>5</td>\n",
       "      <td>4</td>\n",
       "      <td>бензиновый (1499 см³)</td>\n",
       "      <td>140 л. с.</td>\n",
       "      <td>220 Н·м</td>\n",
       "      <td>роботизированная (7 ступеней)</td>\n",
       "      <td>...</td>\n",
       "      <td>215 км/ч</td>\n",
       "      <td>6.5 / 4.7 / 5.4</td>\n",
       "      <td>145 мм</td>\n",
       "      <td>4526 × 1800 × 1420</td>\n",
       "      <td>2670 мм</td>\n",
       "      <td>430 л</td>\n",
       "      <td>430 л</td>\n",
       "      <td>42 л</td>\n",
       "      <td>1450 кг</td>\n",
       "      <td>sedan</td>\n",
       "    </tr>\n",
       "    <tr>\n",
       "      <th>165</th>\n",
       "      <td>BMW</td>\n",
       "      <td>2 Series Gran Coupe</td>\n",
       "      <td>218i</td>\n",
       "      <td>Седан класса C</td>\n",
       "      <td>5</td>\n",
       "      <td>4</td>\n",
       "      <td>бензиновый (1499 см³)</td>\n",
       "      <td>140 л. с.</td>\n",
       "      <td>220 Н·м</td>\n",
       "      <td>роботизированная (7 ступеней)</td>\n",
       "      <td>...</td>\n",
       "      <td>215 км/ч</td>\n",
       "      <td>6.5 / 4.7 / 5.4</td>\n",
       "      <td>145 мм</td>\n",
       "      <td>4526 × 1800 × 1420</td>\n",
       "      <td>2670 мм</td>\n",
       "      <td>430 л</td>\n",
       "      <td>430 л</td>\n",
       "      <td>42 л</td>\n",
       "      <td>1450 кг</td>\n",
       "      <td>sedan</td>\n",
       "    </tr>\n",
       "  </tbody>\n",
       "</table>\n",
       "<p>5 rows × 22 columns</p>\n",
       "</div>"
      ],
      "text/plain": [
       "    brand                model             complect        type_car  seats  \\\n",
       "161   BMW             2 Series              218i MT   Купе класса C      5   \n",
       "162   BMW             2 Series                 218i   Купе класса C      5   \n",
       "163   BMW             2 Series         M240i xDrive   Купе класса C      5   \n",
       "164   BMW  2 Series Gran Coupe  218i Online Edition  Седан класса C      5   \n",
       "165   BMW  2 Series Gran Coupe                 218i  Седан класса C      5   \n",
       "\n",
       "     doors                 engine      power engine_torque  \\\n",
       "161      2  бензиновый (1499 см³)  136 л. с.       220 Н·м   \n",
       "162      2  бензиновый (1499 см³)  136 л. с.       220 Н·м   \n",
       "163      2  бензиновый (2998 см³)  340 л. с.       500 Н·м   \n",
       "164      4  бензиновый (1499 см³)  140 л. с.       220 Н·м   \n",
       "165      4  бензиновый (1499 см³)  140 л. с.       220 Н·м   \n",
       "\n",
       "                      transmission  ... max_speed     fuel_con_CHM  \\\n",
       "161      механическая (6 ступеней)  ...  210 км/ч  6.3 / 4.4 / 5.1   \n",
       "162    автоматическая (8 ступеней)  ...  210 км/ч  6.2 / 4.4 / 5.1   \n",
       "163    автоматическая (8 ступеней)  ...  250 км/ч    9.8 / 6 / 7.4   \n",
       "164  роботизированная (7 ступеней)  ...  215 км/ч  6.5 / 4.7 / 5.4   \n",
       "165  роботизированная (7 ступеней)  ...  215 км/ч  6.5 / 4.7 / 5.4   \n",
       "\n",
       "    G_clearance      dimensions_LWH wheelbase trunk_vol max_trunk_vol  \\\n",
       "161      145 мм  4432 × 1774 × 1418   2690 мм     390 л         390 л   \n",
       "162      145 мм  4432 × 1774 × 1418   2690 мм     390 л         390 л   \n",
       "163      145 мм  4432 × 1774 × 1418   2690 мм     390 л         390 л   \n",
       "164      145 мм  4526 × 1800 × 1420   2670 мм     430 л         430 л   \n",
       "165      145 мм  4526 × 1800 × 1420   2670 мм     430 л         430 л   \n",
       "\n",
       "    fuel_tank vehicle_weight main_type_car  \n",
       "161      52 л        1345 кг         coupe  \n",
       "162      52 л        1475 кг         coupe  \n",
       "163      52 л        1615 кг         coupe  \n",
       "164      42 л        1450 кг         sedan  \n",
       "165      42 л        1450 кг         sedan  \n",
       "\n",
       "[5 rows x 22 columns]"
      ]
     },
     "execution_count": 190,
     "metadata": {},
     "output_type": "execute_result"
    }
   ],
   "source": [
    "df[df['brand'] == 'BMW'].head(5)"
   ]
  },
  {
   "cell_type": "code",
   "execution_count": 191,
   "id": "aeee586c",
   "metadata": {},
   "outputs": [
    {
     "data": {
      "text/html": [
       "<div>\n",
       "<style scoped>\n",
       "    .dataframe tbody tr th:only-of-type {\n",
       "        vertical-align: middle;\n",
       "    }\n",
       "\n",
       "    .dataframe tbody tr th {\n",
       "        vertical-align: top;\n",
       "    }\n",
       "\n",
       "    .dataframe thead th {\n",
       "        text-align: right;\n",
       "    }\n",
       "</style>\n",
       "<table border=\"1\" class=\"dataframe\">\n",
       "  <thead>\n",
       "    <tr style=\"text-align: right;\">\n",
       "      <th></th>\n",
       "      <th>brand</th>\n",
       "      <th>model</th>\n",
       "      <th>complect</th>\n",
       "      <th>type_car</th>\n",
       "      <th>seats</th>\n",
       "      <th>doors</th>\n",
       "      <th>engine</th>\n",
       "      <th>power</th>\n",
       "      <th>engine_torque</th>\n",
       "      <th>transmission</th>\n",
       "      <th>...</th>\n",
       "      <th>max_speed</th>\n",
       "      <th>fuel_con_CHM</th>\n",
       "      <th>G_clearance</th>\n",
       "      <th>dimensions_LWH</th>\n",
       "      <th>wheelbase</th>\n",
       "      <th>trunk_vol</th>\n",
       "      <th>max_trunk_vol</th>\n",
       "      <th>fuel_tank</th>\n",
       "      <th>vehicle_weight</th>\n",
       "      <th>main_type_car</th>\n",
       "    </tr>\n",
       "  </thead>\n",
       "  <tbody>\n",
       "    <tr>\n",
       "      <th>593</th>\n",
       "      <td>KIA</td>\n",
       "      <td>Ceed</td>\n",
       "      <td>1.4T-GDI Luxe 7AMT</td>\n",
       "      <td>Хэтчбек класса C</td>\n",
       "      <td>5</td>\n",
       "      <td>5</td>\n",
       "      <td>бензиновый (1353 см³)</td>\n",
       "      <td>140 л. с.</td>\n",
       "      <td>242 Н·м</td>\n",
       "      <td>роботизированная (7 ступеней)</td>\n",
       "      <td>...</td>\n",
       "      <td>205 км/ч</td>\n",
       "      <td>7.7 / 5.2 / 6.1</td>\n",
       "      <td>150 мм</td>\n",
       "      <td>4310 × 1800 × 1447</td>\n",
       "      <td>2650 мм</td>\n",
       "      <td>395 л</td>\n",
       "      <td>1291 л</td>\n",
       "      <td>50 л</td>\n",
       "      <td>1260 кг</td>\n",
       "      <td>hatchback</td>\n",
       "    </tr>\n",
       "    <tr>\n",
       "      <th>594</th>\n",
       "      <td>KIA</td>\n",
       "      <td>Ceed</td>\n",
       "      <td>1.6 Comfort 6MT</td>\n",
       "      <td>Хэтчбек класса C</td>\n",
       "      <td>5</td>\n",
       "      <td>5</td>\n",
       "      <td>бензиновый (1591 см³)</td>\n",
       "      <td>128 л. с.</td>\n",
       "      <td>155 Н·м</td>\n",
       "      <td>механическая (6 ступеней)</td>\n",
       "      <td>...</td>\n",
       "      <td>195 км/ч</td>\n",
       "      <td>8.7 / 5.6 / 6.8</td>\n",
       "      <td>150 мм</td>\n",
       "      <td>4310 × 1800 × 1447</td>\n",
       "      <td>2650 мм</td>\n",
       "      <td>395 л</td>\n",
       "      <td>1291 л</td>\n",
       "      <td>50 л</td>\n",
       "      <td>1204 кг</td>\n",
       "      <td>hatchback</td>\n",
       "    </tr>\n",
       "    <tr>\n",
       "      <th>595</th>\n",
       "      <td>KIA</td>\n",
       "      <td>Ceed</td>\n",
       "      <td>1.4T-GDI Prestige 7AMT</td>\n",
       "      <td>Хэтчбек класса C</td>\n",
       "      <td>5</td>\n",
       "      <td>5</td>\n",
       "      <td>бензиновый (1353 см³)</td>\n",
       "      <td>140 л. с.</td>\n",
       "      <td>242 Н·м</td>\n",
       "      <td>роботизированная (7 ступеней)</td>\n",
       "      <td>...</td>\n",
       "      <td>205 км/ч</td>\n",
       "      <td>7.7 / 5.2 / 6.1</td>\n",
       "      <td>150 мм</td>\n",
       "      <td>4310 × 1800 × 1447</td>\n",
       "      <td>2650 мм</td>\n",
       "      <td>395 л</td>\n",
       "      <td>1291 л</td>\n",
       "      <td>50 л</td>\n",
       "      <td>1260 кг</td>\n",
       "      <td>hatchback</td>\n",
       "    </tr>\n",
       "    <tr>\n",
       "      <th>596</th>\n",
       "      <td>KIA</td>\n",
       "      <td>Ceed</td>\n",
       "      <td>1.6 Comfort 6AT</td>\n",
       "      <td>Хэтчбек класса C</td>\n",
       "      <td>5</td>\n",
       "      <td>5</td>\n",
       "      <td>бензиновый (1591 см³)</td>\n",
       "      <td>128 л. с.</td>\n",
       "      <td>155 Н·м</td>\n",
       "      <td>автоматическая (6 ступеней)</td>\n",
       "      <td>...</td>\n",
       "      <td>192 км/ч</td>\n",
       "      <td>9.8 / 5.8 / 7.3</td>\n",
       "      <td>150 мм</td>\n",
       "      <td>4310 × 1800 × 1447</td>\n",
       "      <td>2650 мм</td>\n",
       "      <td>395 л</td>\n",
       "      <td>1291 л</td>\n",
       "      <td>50 л</td>\n",
       "      <td>1232 кг</td>\n",
       "      <td>hatchback</td>\n",
       "    </tr>\n",
       "    <tr>\n",
       "      <th>597</th>\n",
       "      <td>KIA</td>\n",
       "      <td>Ceed</td>\n",
       "      <td>1.6 Luxe 6AT</td>\n",
       "      <td>Хэтчбек класса C</td>\n",
       "      <td>5</td>\n",
       "      <td>5</td>\n",
       "      <td>бензиновый (1591 см³)</td>\n",
       "      <td>128 л. с.</td>\n",
       "      <td>155 Н·м</td>\n",
       "      <td>автоматическая (6 ступеней)</td>\n",
       "      <td>...</td>\n",
       "      <td>192 км/ч</td>\n",
       "      <td>9.8 / 5.8 / 7.3</td>\n",
       "      <td>150 мм</td>\n",
       "      <td>4310 × 1800 × 1447</td>\n",
       "      <td>2650 мм</td>\n",
       "      <td>395 л</td>\n",
       "      <td>1291 л</td>\n",
       "      <td>50 л</td>\n",
       "      <td>1232 кг</td>\n",
       "      <td>hatchback</td>\n",
       "    </tr>\n",
       "  </tbody>\n",
       "</table>\n",
       "<p>5 rows × 22 columns</p>\n",
       "</div>"
      ],
      "text/plain": [
       "    brand model                complect          type_car  seats  doors  \\\n",
       "593   KIA  Ceed      1.4T-GDI Luxe 7AMT  Хэтчбек класса C      5      5   \n",
       "594   KIA  Ceed         1.6 Comfort 6MT  Хэтчбек класса C      5      5   \n",
       "595   KIA  Ceed  1.4T-GDI Prestige 7AMT  Хэтчбек класса C      5      5   \n",
       "596   KIA  Ceed         1.6 Comfort 6AT  Хэтчбек класса C      5      5   \n",
       "597   KIA  Ceed            1.6 Luxe 6AT  Хэтчбек класса C      5      5   \n",
       "\n",
       "                    engine      power engine_torque  \\\n",
       "593  бензиновый (1353 см³)  140 л. с.       242 Н·м   \n",
       "594  бензиновый (1591 см³)  128 л. с.       155 Н·м   \n",
       "595  бензиновый (1353 см³)  140 л. с.       242 Н·м   \n",
       "596  бензиновый (1591 см³)  128 л. с.       155 Н·м   \n",
       "597  бензиновый (1591 см³)  128 л. с.       155 Н·м   \n",
       "\n",
       "                      transmission  ... max_speed     fuel_con_CHM  \\\n",
       "593  роботизированная (7 ступеней)  ...  205 км/ч  7.7 / 5.2 / 6.1   \n",
       "594      механическая (6 ступеней)  ...  195 км/ч  8.7 / 5.6 / 6.8   \n",
       "595  роботизированная (7 ступеней)  ...  205 км/ч  7.7 / 5.2 / 6.1   \n",
       "596    автоматическая (6 ступеней)  ...  192 км/ч  9.8 / 5.8 / 7.3   \n",
       "597    автоматическая (6 ступеней)  ...  192 км/ч  9.8 / 5.8 / 7.3   \n",
       "\n",
       "    G_clearance      dimensions_LWH wheelbase trunk_vol max_trunk_vol  \\\n",
       "593      150 мм  4310 × 1800 × 1447   2650 мм     395 л        1291 л   \n",
       "594      150 мм  4310 × 1800 × 1447   2650 мм     395 л        1291 л   \n",
       "595      150 мм  4310 × 1800 × 1447   2650 мм     395 л        1291 л   \n",
       "596      150 мм  4310 × 1800 × 1447   2650 мм     395 л        1291 л   \n",
       "597      150 мм  4310 × 1800 × 1447   2650 мм     395 л        1291 л   \n",
       "\n",
       "    fuel_tank vehicle_weight main_type_car  \n",
       "593      50 л        1260 кг     hatchback  \n",
       "594      50 л        1204 кг     hatchback  \n",
       "595      50 л        1260 кг     hatchback  \n",
       "596      50 л        1232 кг     hatchback  \n",
       "597      50 л        1232 кг     hatchback  \n",
       "\n",
       "[5 rows x 22 columns]"
      ]
     },
     "execution_count": 191,
     "metadata": {},
     "output_type": "execute_result"
    }
   ],
   "source": [
    "df[df['brand'] == 'KIA'].head(5)"
   ]
  },
  {
   "cell_type": "markdown",
   "id": "04e0dcd8",
   "metadata": {},
   "source": [
    "Информация содержащаяся в этой колонке дублируется в других. Чаще всего в комплектации указывают двигатель бензин/дизель, коробка передач, объем двигателя. А дополнение типа \"Comfort\", \"Online Edition\" больше относится к внутреннему наполнению автомобиля, что влияет на его цену, но не на тип кузова.\n",
    "Поэтому этот признак можно удалить."
   ]
  },
  {
   "cell_type": "markdown",
   "id": "95d6221a",
   "metadata": {},
   "source": [
    "##### 2.4 Признаки количество мест, дверей"
   ]
  },
  {
   "cell_type": "code",
   "execution_count": 192,
   "id": "98859cf8",
   "metadata": {},
   "outputs": [
    {
     "data": {
      "text/plain": [
       "array([5, 4, 7, 2, 6, 8, 1, 9], dtype=int64)"
      ]
     },
     "execution_count": 192,
     "metadata": {},
     "output_type": "execute_result"
    }
   ],
   "source": [
    "df['seats'].unique()"
   ]
  },
  {
   "cell_type": "markdown",
   "id": "248a5411",
   "metadata": {},
   "source": [
    "Посмотрим подробнее"
   ]
  },
  {
   "cell_type": "code",
   "execution_count": 214,
   "id": "d5fbcf8a",
   "metadata": {},
   "outputs": [
    {
     "data": {
      "text/plain": [
       "van          16\n",
       "crossover     6\n",
       "SUV           1\n",
       "Name: main_type_car, dtype: int64"
      ]
     },
     "execution_count": 214,
     "metadata": {},
     "output_type": "execute_result"
    }
   ],
   "source": [
    "df[df['seats'] > 7 ]['main_type_car'].value_counts()"
   ]
  },
  {
   "cell_type": "code",
   "execution_count": 194,
   "id": "1d3f10e9",
   "metadata": {},
   "outputs": [
    {
     "data": {
      "text/html": [
       "<div>\n",
       "<style scoped>\n",
       "    .dataframe tbody tr th:only-of-type {\n",
       "        vertical-align: middle;\n",
       "    }\n",
       "\n",
       "    .dataframe tbody tr th {\n",
       "        vertical-align: top;\n",
       "    }\n",
       "\n",
       "    .dataframe thead th {\n",
       "        text-align: right;\n",
       "    }\n",
       "</style>\n",
       "<table border=\"1\" class=\"dataframe\">\n",
       "  <thead>\n",
       "    <tr style=\"text-align: right;\">\n",
       "      <th></th>\n",
       "      <th>brand</th>\n",
       "      <th>model</th>\n",
       "      <th>complect</th>\n",
       "      <th>type_car</th>\n",
       "      <th>seats</th>\n",
       "      <th>doors</th>\n",
       "      <th>engine</th>\n",
       "      <th>power</th>\n",
       "      <th>engine_torque</th>\n",
       "      <th>transmission</th>\n",
       "      <th>...</th>\n",
       "      <th>max_speed</th>\n",
       "      <th>fuel_con_CHM</th>\n",
       "      <th>G_clearance</th>\n",
       "      <th>dimensions_LWH</th>\n",
       "      <th>wheelbase</th>\n",
       "      <th>trunk_vol</th>\n",
       "      <th>max_trunk_vol</th>\n",
       "      <th>fuel_tank</th>\n",
       "      <th>vehicle_weight</th>\n",
       "      <th>main_type_car</th>\n",
       "    </tr>\n",
       "  </thead>\n",
       "  <tbody>\n",
       "    <tr>\n",
       "      <th>1431</th>\n",
       "      <td>Toyota</td>\n",
       "      <td>Hiace</td>\n",
       "      <td>3.0D MT Standart</td>\n",
       "      <td>Вэн</td>\n",
       "      <td>1</td>\n",
       "      <td>3</td>\n",
       "      <td>дизельный (2755 см³)</td>\n",
       "      <td>150 л. с.</td>\n",
       "      <td>420 Н·м</td>\n",
       "      <td>механическая (6 ступеней)</td>\n",
       "      <td>...</td>\n",
       "      <td>150 км/ч</td>\n",
       "      <td>0 / 0 / 0</td>\n",
       "      <td>185 мм</td>\n",
       "      <td>5915 × 1950 × 2280</td>\n",
       "      <td>3860 мм</td>\n",
       "      <td>0 л</td>\n",
       "      <td>1935 л</td>\n",
       "      <td>70 л</td>\n",
       "      <td>2125 кг</td>\n",
       "      <td>van</td>\n",
       "    </tr>\n",
       "  </tbody>\n",
       "</table>\n",
       "<p>1 rows × 22 columns</p>\n",
       "</div>"
      ],
      "text/plain": [
       "       brand  model          complect type_car  seats  doors  \\\n",
       "1431  Toyota  Hiace  3.0D MT Standart      Вэн      1      3   \n",
       "\n",
       "                    engine      power engine_torque  \\\n",
       "1431  дизельный (2755 см³)  150 л. с.       420 Н·м   \n",
       "\n",
       "                   transmission  ... max_speed fuel_con_CHM G_clearance  \\\n",
       "1431  механическая (6 ступеней)  ...  150 км/ч    0 / 0 / 0      185 мм   \n",
       "\n",
       "          dimensions_LWH wheelbase trunk_vol max_trunk_vol fuel_tank  \\\n",
       "1431  5915 × 1950 × 2280   3860 мм       0 л        1935 л      70 л   \n",
       "\n",
       "     vehicle_weight main_type_car  \n",
       "1431        2125 кг           van  \n",
       "\n",
       "[1 rows x 22 columns]"
      ]
     },
     "execution_count": 194,
     "metadata": {},
     "output_type": "execute_result"
    }
   ],
   "source": [
    "df[df['seats'] ==1 ]"
   ]
  },
  {
   "cell_type": "markdown",
   "id": "5e1d49ef",
   "metadata": {},
   "source": [
    "Более 7 мест в машинах таких типов (van, crossover,SUV) действиетельно есть. А вот 1 место в Toyota Hiace скорее ошибка. Хотя это микроавтобус и там может быть только место видителя, например. Однако это значение мы исправим на 9 как у других автомобилей такой марки и модели. "
   ]
  },
  {
   "cell_type": "code",
   "execution_count": 195,
   "id": "bf0752e7",
   "metadata": {},
   "outputs": [],
   "source": [
    "df.loc[1431, 'seats'] = 9"
   ]
  },
  {
   "cell_type": "code",
   "execution_count": 196,
   "id": "1522f0d3",
   "metadata": {},
   "outputs": [
    {
     "data": {
      "text/plain": [
       "array([4, 5, 2, 7, 8, 6, 3], dtype=int64)"
      ]
     },
     "execution_count": 196,
     "metadata": {},
     "output_type": "execute_result"
    }
   ],
   "source": [
    "df['doors'].unique()"
   ]
  },
  {
   "cell_type": "markdown",
   "id": "4bd4ad56",
   "metadata": {},
   "source": [
    "4 и больше 5 дверей это уже подозрительно. Заменим количество дверей больше 5 и если дверей 4 на 5 дверей."
   ]
  },
  {
   "cell_type": "code",
   "execution_count": 197,
   "id": "f1c6cfae",
   "metadata": {},
   "outputs": [],
   "source": [
    "df['doors'] = df['doors'].apply(lambda x : 5 if x > 5 or x == 4 else x)"
   ]
  },
  {
   "cell_type": "code",
   "execution_count": 198,
   "id": "9e09c836",
   "metadata": {},
   "outputs": [
    {
     "data": {
      "text/plain": [
       "array([5, 2, 3], dtype=int64)"
      ]
     },
     "execution_count": 198,
     "metadata": {},
     "output_type": "execute_result"
    }
   ],
   "source": [
    "df['doors'].unique()"
   ]
  },
  {
   "cell_type": "code",
   "execution_count": 203,
   "id": "85504ea8",
   "metadata": {},
   "outputs": [
    {
     "data": {
      "text/plain": [
       "coupe        43\n",
       "roadster      9\n",
       "cabriolet     5\n",
       "SUV           3\n",
       "Name: main_type_car, dtype: int64"
      ]
     },
     "execution_count": 203,
     "metadata": {},
     "output_type": "execute_result"
    }
   ],
   "source": [
    "# Посмотрим на машины с 2 дверьми\n",
    "df[df['doors'] == 2]['main_type_car'].value_counts()"
   ]
  },
  {
   "cell_type": "markdown",
   "id": "2756ffad",
   "metadata": {},
   "source": [
    "3 внедорожника с 2 дверьми, посомрим ближе."
   ]
  },
  {
   "cell_type": "code",
   "execution_count": 204,
   "id": "175c1ceb",
   "metadata": {},
   "outputs": [
    {
     "data": {
      "text/html": [
       "<div>\n",
       "<style scoped>\n",
       "    .dataframe tbody tr th:only-of-type {\n",
       "        vertical-align: middle;\n",
       "    }\n",
       "\n",
       "    .dataframe tbody tr th {\n",
       "        vertical-align: top;\n",
       "    }\n",
       "\n",
       "    .dataframe thead th {\n",
       "        text-align: right;\n",
       "    }\n",
       "</style>\n",
       "<table border=\"1\" class=\"dataframe\">\n",
       "  <thead>\n",
       "    <tr style=\"text-align: right;\">\n",
       "      <th></th>\n",
       "      <th>brand</th>\n",
       "      <th>model</th>\n",
       "      <th>complect</th>\n",
       "      <th>type_car</th>\n",
       "      <th>seats</th>\n",
       "      <th>doors</th>\n",
       "      <th>engine</th>\n",
       "      <th>power</th>\n",
       "      <th>engine_torque</th>\n",
       "      <th>transmission</th>\n",
       "      <th>...</th>\n",
       "      <th>max_speed</th>\n",
       "      <th>fuel_con_CHM</th>\n",
       "      <th>G_clearance</th>\n",
       "      <th>dimensions_LWH</th>\n",
       "      <th>wheelbase</th>\n",
       "      <th>trunk_vol</th>\n",
       "      <th>max_trunk_vol</th>\n",
       "      <th>fuel_tank</th>\n",
       "      <th>vehicle_weight</th>\n",
       "      <th>main_type_car</th>\n",
       "    </tr>\n",
       "  </thead>\n",
       "  <tbody>\n",
       "    <tr>\n",
       "      <th>587</th>\n",
       "      <td>Jeep</td>\n",
       "      <td>Wrangler 2D</td>\n",
       "      <td>2.0 AT8 Sport</td>\n",
       "      <td>Внедорожник класса B</td>\n",
       "      <td>4</td>\n",
       "      <td>2</td>\n",
       "      <td>бензиновый (1995 см³)</td>\n",
       "      <td>272 л. с.</td>\n",
       "      <td>400 Н·м</td>\n",
       "      <td>автоматическая (8 ступеней)</td>\n",
       "      <td>...</td>\n",
       "      <td>0 км/ч</td>\n",
       "      <td>0 / 0 / 0</td>\n",
       "      <td>246 мм</td>\n",
       "      <td>4334 × 1894 × 1858</td>\n",
       "      <td>2459 мм</td>\n",
       "      <td>142 л</td>\n",
       "      <td>430 л</td>\n",
       "      <td>66 л</td>\n",
       "      <td>1819 кг</td>\n",
       "      <td>SUV</td>\n",
       "    </tr>\n",
       "    <tr>\n",
       "      <th>588</th>\n",
       "      <td>Jeep</td>\n",
       "      <td>Wrangler 2D</td>\n",
       "      <td>2.0 AT8 Sahara</td>\n",
       "      <td>Внедорожник класса B</td>\n",
       "      <td>4</td>\n",
       "      <td>2</td>\n",
       "      <td>бензиновый (1995 см³)</td>\n",
       "      <td>272 л. с.</td>\n",
       "      <td>400 Н·м</td>\n",
       "      <td>автоматическая (8 ступеней)</td>\n",
       "      <td>...</td>\n",
       "      <td>0 км/ч</td>\n",
       "      <td>0 / 0 / 0</td>\n",
       "      <td>246 мм</td>\n",
       "      <td>4334 × 1894 × 1878</td>\n",
       "      <td>2459 мм</td>\n",
       "      <td>142 л</td>\n",
       "      <td>430 л</td>\n",
       "      <td>66 л</td>\n",
       "      <td>1819 кг</td>\n",
       "      <td>SUV</td>\n",
       "    </tr>\n",
       "    <tr>\n",
       "      <th>589</th>\n",
       "      <td>Jeep</td>\n",
       "      <td>Wrangler 2D</td>\n",
       "      <td>2.0 AT8 Rubicon</td>\n",
       "      <td>Внедорожник класса B</td>\n",
       "      <td>4</td>\n",
       "      <td>2</td>\n",
       "      <td>бензиновый (1995 см³)</td>\n",
       "      <td>272 л. с.</td>\n",
       "      <td>400 Н·м</td>\n",
       "      <td>автоматическая (8 ступеней)</td>\n",
       "      <td>...</td>\n",
       "      <td>0 км/ч</td>\n",
       "      <td>0 / 0 / 0</td>\n",
       "      <td>246 мм</td>\n",
       "      <td>4334 × 1894 × 1879</td>\n",
       "      <td>2459 мм</td>\n",
       "      <td>142 л</td>\n",
       "      <td>430 л</td>\n",
       "      <td>66 л</td>\n",
       "      <td>1819 кг</td>\n",
       "      <td>SUV</td>\n",
       "    </tr>\n",
       "  </tbody>\n",
       "</table>\n",
       "<p>3 rows × 22 columns</p>\n",
       "</div>"
      ],
      "text/plain": [
       "    brand        model         complect              type_car  seats  doors  \\\n",
       "587  Jeep  Wrangler 2D    2.0 AT8 Sport  Внедорожник класса B      4      2   \n",
       "588  Jeep  Wrangler 2D   2.0 AT8 Sahara  Внедорожник класса B      4      2   \n",
       "589  Jeep  Wrangler 2D  2.0 AT8 Rubicon  Внедорожник класса B      4      2   \n",
       "\n",
       "                    engine      power engine_torque  \\\n",
       "587  бензиновый (1995 см³)  272 л. с.       400 Н·м   \n",
       "588  бензиновый (1995 см³)  272 л. с.       400 Н·м   \n",
       "589  бензиновый (1995 см³)  272 л. с.       400 Н·м   \n",
       "\n",
       "                    transmission  ... max_speed fuel_con_CHM G_clearance  \\\n",
       "587  автоматическая (8 ступеней)  ...    0 км/ч    0 / 0 / 0      246 мм   \n",
       "588  автоматическая (8 ступеней)  ...    0 км/ч    0 / 0 / 0      246 мм   \n",
       "589  автоматическая (8 ступеней)  ...    0 км/ч    0 / 0 / 0      246 мм   \n",
       "\n",
       "         dimensions_LWH wheelbase trunk_vol max_trunk_vol fuel_tank  \\\n",
       "587  4334 × 1894 × 1858   2459 мм     142 л         430 л      66 л   \n",
       "588  4334 × 1894 × 1878   2459 мм     142 л         430 л      66 л   \n",
       "589  4334 × 1894 × 1879   2459 мм     142 л         430 л      66 л   \n",
       "\n",
       "    vehicle_weight main_type_car  \n",
       "587        1819 кг           SUV  \n",
       "588        1819 кг           SUV  \n",
       "589        1819 кг           SUV  \n",
       "\n",
       "[3 rows x 22 columns]"
      ]
     },
     "execution_count": 204,
     "metadata": {},
     "output_type": "execute_result"
    }
   ],
   "source": [
    "df[(df['doors'] == 2) & (df['main_type_car'] == 'SUV')]"
   ]
  },
  {
   "cell_type": "markdown",
   "id": "e8da85cc",
   "metadata": {},
   "source": [
    "У Jeep Wrangler могут быть комплектации с 2 дверьми..."
   ]
  },
  {
   "cell_type": "code",
   "execution_count": 208,
   "id": "584d382e",
   "metadata": {},
   "outputs": [
    {
     "data": {
      "text/html": [
       "<div>\n",
       "<style scoped>\n",
       "    .dataframe tbody tr th:only-of-type {\n",
       "        vertical-align: middle;\n",
       "    }\n",
       "\n",
       "    .dataframe tbody tr th {\n",
       "        vertical-align: top;\n",
       "    }\n",
       "\n",
       "    .dataframe thead th {\n",
       "        text-align: right;\n",
       "    }\n",
       "</style>\n",
       "<table border=\"1\" class=\"dataframe\">\n",
       "  <thead>\n",
       "    <tr style=\"text-align: right;\">\n",
       "      <th></th>\n",
       "      <th>brand</th>\n",
       "      <th>model</th>\n",
       "      <th>complect</th>\n",
       "      <th>type_car</th>\n",
       "      <th>seats</th>\n",
       "      <th>doors</th>\n",
       "      <th>engine</th>\n",
       "      <th>power</th>\n",
       "      <th>engine_torque</th>\n",
       "      <th>transmission</th>\n",
       "      <th>...</th>\n",
       "      <th>max_speed</th>\n",
       "      <th>fuel_con_CHM</th>\n",
       "      <th>G_clearance</th>\n",
       "      <th>dimensions_LWH</th>\n",
       "      <th>wheelbase</th>\n",
       "      <th>trunk_vol</th>\n",
       "      <th>max_trunk_vol</th>\n",
       "      <th>fuel_tank</th>\n",
       "      <th>vehicle_weight</th>\n",
       "      <th>main_type_car</th>\n",
       "    </tr>\n",
       "  </thead>\n",
       "  <tbody>\n",
       "    <tr>\n",
       "      <th>1388</th>\n",
       "      <td>Suzuki</td>\n",
       "      <td>Jimny</td>\n",
       "      <td>GL MT</td>\n",
       "      <td>Внедорожник класса B</td>\n",
       "      <td>4</td>\n",
       "      <td>3</td>\n",
       "      <td>бензиновый (1462 см³)</td>\n",
       "      <td>102 л. с.</td>\n",
       "      <td>130 Н·м</td>\n",
       "      <td>механическая (5 ступеней)</td>\n",
       "      <td>...</td>\n",
       "      <td>145 км/ч</td>\n",
       "      <td>7.7 / 6.2 / 6.8</td>\n",
       "      <td>210 мм</td>\n",
       "      <td>3650 × 1645 × 1725</td>\n",
       "      <td>2250 мм</td>\n",
       "      <td>85 л</td>\n",
       "      <td>830 л</td>\n",
       "      <td>40 л</td>\n",
       "      <td>1090 кг</td>\n",
       "      <td>SUV</td>\n",
       "    </tr>\n",
       "    <tr>\n",
       "      <th>1389</th>\n",
       "      <td>Suzuki</td>\n",
       "      <td>Jimny</td>\n",
       "      <td>GL AT</td>\n",
       "      <td>Внедорожник класса B</td>\n",
       "      <td>4</td>\n",
       "      <td>3</td>\n",
       "      <td>бензиновый (1462 см³)</td>\n",
       "      <td>102 л. с.</td>\n",
       "      <td>130 Н·м</td>\n",
       "      <td>автоматическая (4 ступеней)</td>\n",
       "      <td>...</td>\n",
       "      <td>140 км/ч</td>\n",
       "      <td>8.4 / 6.9 / 7.5</td>\n",
       "      <td>210 мм</td>\n",
       "      <td>3650 × 1645 × 1725</td>\n",
       "      <td>2250 мм</td>\n",
       "      <td>85 л</td>\n",
       "      <td>830 л</td>\n",
       "      <td>40 л</td>\n",
       "      <td>1110 кг</td>\n",
       "      <td>SUV</td>\n",
       "    </tr>\n",
       "    <tr>\n",
       "      <th>1390</th>\n",
       "      <td>Suzuki</td>\n",
       "      <td>Jimny</td>\n",
       "      <td>GLX AT</td>\n",
       "      <td>Внедорожник класса B</td>\n",
       "      <td>4</td>\n",
       "      <td>3</td>\n",
       "      <td>бензиновый (1462 см³)</td>\n",
       "      <td>102 л. с.</td>\n",
       "      <td>130 Н·м</td>\n",
       "      <td>автоматическая (4 ступеней)</td>\n",
       "      <td>...</td>\n",
       "      <td>140 км/ч</td>\n",
       "      <td>8.4 / 6.9 / 7.5</td>\n",
       "      <td>210 мм</td>\n",
       "      <td>3650 × 1645 × 1725</td>\n",
       "      <td>2250 мм</td>\n",
       "      <td>85 л</td>\n",
       "      <td>830 л</td>\n",
       "      <td>40 л</td>\n",
       "      <td>1110 кг</td>\n",
       "      <td>SUV</td>\n",
       "    </tr>\n",
       "    <tr>\n",
       "      <th>1431</th>\n",
       "      <td>Toyota</td>\n",
       "      <td>Hiace</td>\n",
       "      <td>3.0D MT Standart</td>\n",
       "      <td>Вэн</td>\n",
       "      <td>9</td>\n",
       "      <td>3</td>\n",
       "      <td>дизельный (2755 см³)</td>\n",
       "      <td>150 л. с.</td>\n",
       "      <td>420 Н·м</td>\n",
       "      <td>механическая (6 ступеней)</td>\n",
       "      <td>...</td>\n",
       "      <td>150 км/ч</td>\n",
       "      <td>0 / 0 / 0</td>\n",
       "      <td>185 мм</td>\n",
       "      <td>5915 × 1950 × 2280</td>\n",
       "      <td>3860 мм</td>\n",
       "      <td>0 л</td>\n",
       "      <td>1935 л</td>\n",
       "      <td>70 л</td>\n",
       "      <td>2125 кг</td>\n",
       "      <td>van</td>\n",
       "    </tr>\n",
       "  </tbody>\n",
       "</table>\n",
       "<p>4 rows × 22 columns</p>\n",
       "</div>"
      ],
      "text/plain": [
       "       brand  model          complect              type_car  seats  doors  \\\n",
       "1388  Suzuki  Jimny             GL MT  Внедорожник класса B      4      3   \n",
       "1389  Suzuki  Jimny             GL AT  Внедорожник класса B      4      3   \n",
       "1390  Suzuki  Jimny            GLX AT  Внедорожник класса B      4      3   \n",
       "1431  Toyota  Hiace  3.0D MT Standart                   Вэн      9      3   \n",
       "\n",
       "                     engine      power engine_torque  \\\n",
       "1388  бензиновый (1462 см³)  102 л. с.       130 Н·м   \n",
       "1389  бензиновый (1462 см³)  102 л. с.       130 Н·м   \n",
       "1390  бензиновый (1462 см³)  102 л. с.       130 Н·м   \n",
       "1431   дизельный (2755 см³)  150 л. с.       420 Н·м   \n",
       "\n",
       "                     transmission  ... max_speed     fuel_con_CHM G_clearance  \\\n",
       "1388    механическая (5 ступеней)  ...  145 км/ч  7.7 / 6.2 / 6.8      210 мм   \n",
       "1389  автоматическая (4 ступеней)  ...  140 км/ч  8.4 / 6.9 / 7.5      210 мм   \n",
       "1390  автоматическая (4 ступеней)  ...  140 км/ч  8.4 / 6.9 / 7.5      210 мм   \n",
       "1431    механическая (6 ступеней)  ...  150 км/ч        0 / 0 / 0      185 мм   \n",
       "\n",
       "          dimensions_LWH wheelbase trunk_vol max_trunk_vol fuel_tank  \\\n",
       "1388  3650 × 1645 × 1725   2250 мм      85 л         830 л      40 л   \n",
       "1389  3650 × 1645 × 1725   2250 мм      85 л         830 л      40 л   \n",
       "1390  3650 × 1645 × 1725   2250 мм      85 л         830 л      40 л   \n",
       "1431  5915 × 1950 × 2280   3860 мм       0 л        1935 л      70 л   \n",
       "\n",
       "     vehicle_weight main_type_car  \n",
       "1388        1090 кг           SUV  \n",
       "1389        1110 кг           SUV  \n",
       "1390        1110 кг           SUV  \n",
       "1431        2125 кг           van  \n",
       "\n",
       "[4 rows x 22 columns]"
      ]
     },
     "execution_count": 208,
     "metadata": {},
     "output_type": "execute_result"
    }
   ],
   "source": [
    "# Посмотрим на машины с 3 дверьми\n",
    "df[df['doors'] == 3]"
   ]
  },
  {
   "cell_type": "markdown",
   "id": "17a19400",
   "metadata": {},
   "source": [
    "У Suzuki Jimny действительно 3 двери, а вот у Toyota Hiace - 5."
   ]
  },
  {
   "cell_type": "code",
   "execution_count": 209,
   "id": "47599048",
   "metadata": {},
   "outputs": [],
   "source": [
    "df.loc[1431, 'doors'] = 5"
   ]
  },
  {
   "cell_type": "code",
   "execution_count": 210,
   "id": "762980e7",
   "metadata": {},
   "outputs": [
    {
     "data": {
      "text/plain": [
       "array([5, 2, 3], dtype=int64)"
      ]
     },
     "execution_count": 210,
     "metadata": {},
     "output_type": "execute_result"
    }
   ],
   "source": [
    "df['doors'].unique()"
   ]
  },
  {
   "cell_type": "code",
   "execution_count": 211,
   "id": "9c2154eb",
   "metadata": {},
   "outputs": [
    {
     "data": {
      "text/plain": [
       "array([5, 4, 7, 2, 6, 8, 9], dtype=int64)"
      ]
     },
     "execution_count": 211,
     "metadata": {},
     "output_type": "execute_result"
    }
   ],
   "source": [
    "df['seats'].unique()"
   ]
  },
  {
   "cell_type": "code",
   "execution_count": null,
   "id": "2b0d5d8f",
   "metadata": {},
   "outputs": [],
   "source": []
  }
 ],
 "metadata": {
  "kernelspec": {
   "display_name": "Python 3",
   "language": "python",
   "name": "python3"
  },
  "language_info": {
   "codemirror_mode": {
    "name": "ipython",
    "version": 3
   },
   "file_extension": ".py",
   "mimetype": "text/x-python",
   "name": "python",
   "nbconvert_exporter": "python",
   "pygments_lexer": "ipython3",
   "version": "3.8.10"
  }
 },
 "nbformat": 4,
 "nbformat_minor": 5
}
